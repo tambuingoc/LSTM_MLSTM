{
 "cells": [
  {
   "cell_type": "markdown",
   "metadata": {},
   "source": [
    "# preprocessing"
   ]
  },
  {
   "cell_type": "code",
   "execution_count": 3,
   "metadata": {},
   "outputs": [],
   "source": [
    "import matplotlib.pyplot as plt\n",
    "import numpy as np\n",
    "import pandas\n",
    "from sklearn.preprocessing import MinMaxScaler"
   ]
  },
  {
   "cell_type": "code",
   "execution_count": 4,
   "metadata": {},
   "outputs": [],
   "source": [
    "year_2019 = pandas.read_csv('DATASET_2019.csv')"
   ]
  },
  {
   "cell_type": "code",
   "execution_count": 5,
   "metadata": {},
   "outputs": [
    {
     "data": {
      "text/html": [
       "<div>\n",
       "<style scoped>\n",
       "    .dataframe tbody tr th:only-of-type {\n",
       "        vertical-align: middle;\n",
       "    }\n",
       "\n",
       "    .dataframe tbody tr th {\n",
       "        vertical-align: top;\n",
       "    }\n",
       "\n",
       "    .dataframe thead th {\n",
       "        text-align: right;\n",
       "    }\n",
       "</style>\n",
       "<table border=\"1\" class=\"dataframe\">\n",
       "  <thead>\n",
       "    <tr style=\"text-align: right;\">\n",
       "      <th></th>\n",
       "      <th>YYYY</th>\n",
       "      <th>MM</th>\n",
       "      <th>DD</th>\n",
       "      <th>TIME</th>\n",
       "      <th>STAMP</th>\n",
       "      <th>Nhiệt độ</th>\n",
       "      <th>Độ mặn</th>\n",
       "      <th>PH</th>\n",
       "      <th>NH3</th>\n",
       "      <th>H2S</th>\n",
       "      <th>TSS</th>\n",
       "      <th>DO</th>\n",
       "      <th>COD</th>\n",
       "      <th>Ghi chú</th>\n",
       "      <th>Unnamed: 14</th>\n",
       "      <th>Unnamed: 15</th>\n",
       "    </tr>\n",
       "  </thead>\n",
       "  <tbody>\n",
       "    <tr>\n",
       "      <th>0</th>\n",
       "      <td>2019</td>\n",
       "      <td>1</td>\n",
       "      <td>1</td>\n",
       "      <td>00:00</td>\n",
       "      <td>01/01/2019 00:00</td>\n",
       "      <td>NaN</td>\n",
       "      <td>NaN</td>\n",
       "      <td>NaN</td>\n",
       "      <td>NaN</td>\n",
       "      <td>NaN</td>\n",
       "      <td>NaN</td>\n",
       "      <td>NaN</td>\n",
       "      <td>NaN</td>\n",
       "      <td>AVE</td>\n",
       "      <td>NaN</td>\n",
       "      <td>ADDING LATER</td>\n",
       "    </tr>\n",
       "    <tr>\n",
       "      <th>1</th>\n",
       "      <td>2019</td>\n",
       "      <td>1</td>\n",
       "      <td>1</td>\n",
       "      <td>06:00</td>\n",
       "      <td>01/01/2019 06:00</td>\n",
       "      <td>NaN</td>\n",
       "      <td>NaN</td>\n",
       "      <td>NaN</td>\n",
       "      <td>NaN</td>\n",
       "      <td>NaN</td>\n",
       "      <td>NaN</td>\n",
       "      <td>NaN</td>\n",
       "      <td>NaN</td>\n",
       "      <td>AVE</td>\n",
       "      <td>NaN</td>\n",
       "      <td>ADDING LATER</td>\n",
       "    </tr>\n",
       "    <tr>\n",
       "      <th>2</th>\n",
       "      <td>2019</td>\n",
       "      <td>1</td>\n",
       "      <td>1</td>\n",
       "      <td>09:00</td>\n",
       "      <td>01/01/2019 09:00</td>\n",
       "      <td>NaN</td>\n",
       "      <td>NaN</td>\n",
       "      <td>NaN</td>\n",
       "      <td>NaN</td>\n",
       "      <td>NaN</td>\n",
       "      <td>NaN</td>\n",
       "      <td>NaN</td>\n",
       "      <td>NaN</td>\n",
       "      <td>AVE</td>\n",
       "      <td>NaN</td>\n",
       "      <td>ADDING LATER</td>\n",
       "    </tr>\n",
       "    <tr>\n",
       "      <th>3</th>\n",
       "      <td>2019</td>\n",
       "      <td>1</td>\n",
       "      <td>1</td>\n",
       "      <td>12:00</td>\n",
       "      <td>01/01/2019 12:00</td>\n",
       "      <td>NaN</td>\n",
       "      <td>NaN</td>\n",
       "      <td>NaN</td>\n",
       "      <td>NaN</td>\n",
       "      <td>NaN</td>\n",
       "      <td>NaN</td>\n",
       "      <td>NaN</td>\n",
       "      <td>NaN</td>\n",
       "      <td>AVE</td>\n",
       "      <td>NaN</td>\n",
       "      <td>ADDING LATER</td>\n",
       "    </tr>\n",
       "    <tr>\n",
       "      <th>4</th>\n",
       "      <td>2019</td>\n",
       "      <td>1</td>\n",
       "      <td>1</td>\n",
       "      <td>15:00</td>\n",
       "      <td>01/01/2019 15:00</td>\n",
       "      <td>NaN</td>\n",
       "      <td>NaN</td>\n",
       "      <td>NaN</td>\n",
       "      <td>NaN</td>\n",
       "      <td>NaN</td>\n",
       "      <td>NaN</td>\n",
       "      <td>NaN</td>\n",
       "      <td>NaN</td>\n",
       "      <td>AVE</td>\n",
       "      <td>NaN</td>\n",
       "      <td>ADDING LATER</td>\n",
       "    </tr>\n",
       "    <tr>\n",
       "      <th>...</th>\n",
       "      <td>...</td>\n",
       "      <td>...</td>\n",
       "      <td>...</td>\n",
       "      <td>...</td>\n",
       "      <td>...</td>\n",
       "      <td>...</td>\n",
       "      <td>...</td>\n",
       "      <td>...</td>\n",
       "      <td>...</td>\n",
       "      <td>...</td>\n",
       "      <td>...</td>\n",
       "      <td>...</td>\n",
       "      <td>...</td>\n",
       "      <td>...</td>\n",
       "      <td>...</td>\n",
       "      <td>...</td>\n",
       "    </tr>\n",
       "    <tr>\n",
       "      <th>2185</th>\n",
       "      <td>2019</td>\n",
       "      <td>12</td>\n",
       "      <td>31</td>\n",
       "      <td>06:00</td>\n",
       "      <td>31/12/2019 06:00</td>\n",
       "      <td>NaN</td>\n",
       "      <td>NaN</td>\n",
       "      <td>NaN</td>\n",
       "      <td>NaN</td>\n",
       "      <td>NaN</td>\n",
       "      <td>NaN</td>\n",
       "      <td>NaN</td>\n",
       "      <td>NaN</td>\n",
       "      <td>AVE</td>\n",
       "      <td>NaN</td>\n",
       "      <td>ADDING LATER</td>\n",
       "    </tr>\n",
       "    <tr>\n",
       "      <th>2186</th>\n",
       "      <td>2019</td>\n",
       "      <td>12</td>\n",
       "      <td>31</td>\n",
       "      <td>09:00</td>\n",
       "      <td>31/12/2019 09:00</td>\n",
       "      <td>NaN</td>\n",
       "      <td>NaN</td>\n",
       "      <td>NaN</td>\n",
       "      <td>NaN</td>\n",
       "      <td>NaN</td>\n",
       "      <td>NaN</td>\n",
       "      <td>NaN</td>\n",
       "      <td>NaN</td>\n",
       "      <td>AVE</td>\n",
       "      <td>NaN</td>\n",
       "      <td>ADDING LATER</td>\n",
       "    </tr>\n",
       "    <tr>\n",
       "      <th>2187</th>\n",
       "      <td>2019</td>\n",
       "      <td>12</td>\n",
       "      <td>31</td>\n",
       "      <td>12:00</td>\n",
       "      <td>31/12/2019 12:00</td>\n",
       "      <td>NaN</td>\n",
       "      <td>NaN</td>\n",
       "      <td>NaN</td>\n",
       "      <td>NaN</td>\n",
       "      <td>NaN</td>\n",
       "      <td>NaN</td>\n",
       "      <td>NaN</td>\n",
       "      <td>NaN</td>\n",
       "      <td>AVE</td>\n",
       "      <td>NaN</td>\n",
       "      <td>ADDING LATER</td>\n",
       "    </tr>\n",
       "    <tr>\n",
       "      <th>2188</th>\n",
       "      <td>2019</td>\n",
       "      <td>12</td>\n",
       "      <td>31</td>\n",
       "      <td>15:00</td>\n",
       "      <td>31/12/2019 15:00</td>\n",
       "      <td>NaN</td>\n",
       "      <td>NaN</td>\n",
       "      <td>NaN</td>\n",
       "      <td>NaN</td>\n",
       "      <td>NaN</td>\n",
       "      <td>NaN</td>\n",
       "      <td>NaN</td>\n",
       "      <td>NaN</td>\n",
       "      <td>AVE</td>\n",
       "      <td>NaN</td>\n",
       "      <td>ADDING LATER</td>\n",
       "    </tr>\n",
       "    <tr>\n",
       "      <th>2189</th>\n",
       "      <td>2019</td>\n",
       "      <td>12</td>\n",
       "      <td>31</td>\n",
       "      <td>18:00</td>\n",
       "      <td>31/12/2019 18:00</td>\n",
       "      <td>NaN</td>\n",
       "      <td>NaN</td>\n",
       "      <td>NaN</td>\n",
       "      <td>NaN</td>\n",
       "      <td>NaN</td>\n",
       "      <td>NaN</td>\n",
       "      <td>NaN</td>\n",
       "      <td>NaN</td>\n",
       "      <td>AVE</td>\n",
       "      <td>NaN</td>\n",
       "      <td>ADDING LATER</td>\n",
       "    </tr>\n",
       "  </tbody>\n",
       "</table>\n",
       "<p>2190 rows × 16 columns</p>\n",
       "</div>"
      ],
      "text/plain": [
       "      YYYY  MM  DD   TIME             STAMP  Nhiệt độ  Độ mặn  PH  NH3  H2S  \\\n",
       "0     2019   1   1  00:00  01/01/2019 00:00       NaN     NaN NaN  NaN  NaN   \n",
       "1     2019   1   1  06:00  01/01/2019 06:00       NaN     NaN NaN  NaN  NaN   \n",
       "2     2019   1   1  09:00  01/01/2019 09:00       NaN     NaN NaN  NaN  NaN   \n",
       "3     2019   1   1  12:00  01/01/2019 12:00       NaN     NaN NaN  NaN  NaN   \n",
       "4     2019   1   1  15:00  01/01/2019 15:00       NaN     NaN NaN  NaN  NaN   \n",
       "...    ...  ..  ..    ...               ...       ...     ...  ..  ...  ...   \n",
       "2185  2019  12  31  06:00  31/12/2019 06:00       NaN     NaN NaN  NaN  NaN   \n",
       "2186  2019  12  31  09:00  31/12/2019 09:00       NaN     NaN NaN  NaN  NaN   \n",
       "2187  2019  12  31  12:00  31/12/2019 12:00       NaN     NaN NaN  NaN  NaN   \n",
       "2188  2019  12  31  15:00  31/12/2019 15:00       NaN     NaN NaN  NaN  NaN   \n",
       "2189  2019  12  31  18:00  31/12/2019 18:00       NaN     NaN NaN  NaN  NaN   \n",
       "\n",
       "      TSS  DO  COD Ghi chú Unnamed: 14   Unnamed: 15  \n",
       "0     NaN NaN  NaN     AVE         NaN  ADDING LATER  \n",
       "1     NaN NaN  NaN     AVE         NaN  ADDING LATER  \n",
       "2     NaN NaN  NaN     AVE         NaN  ADDING LATER  \n",
       "3     NaN NaN  NaN     AVE         NaN  ADDING LATER  \n",
       "4     NaN NaN  NaN     AVE         NaN  ADDING LATER  \n",
       "...   ...  ..  ...     ...         ...           ...  \n",
       "2185  NaN NaN  NaN     AVE         NaN  ADDING LATER  \n",
       "2186  NaN NaN  NaN     AVE         NaN  ADDING LATER  \n",
       "2187  NaN NaN  NaN     AVE         NaN  ADDING LATER  \n",
       "2188  NaN NaN  NaN     AVE         NaN  ADDING LATER  \n",
       "2189  NaN NaN  NaN     AVE         NaN  ADDING LATER  \n",
       "\n",
       "[2190 rows x 16 columns]"
      ]
     },
     "execution_count": 5,
     "metadata": {},
     "output_type": "execute_result"
    }
   ],
   "source": [
    "year_2019"
   ]
  },
  {
   "cell_type": "code",
   "execution_count": 6,
   "metadata": {},
   "outputs": [
    {
     "data": {
      "text/html": [
       "<div>\n",
       "<style scoped>\n",
       "    .dataframe tbody tr th:only-of-type {\n",
       "        vertical-align: middle;\n",
       "    }\n",
       "\n",
       "    .dataframe tbody tr th {\n",
       "        vertical-align: top;\n",
       "    }\n",
       "\n",
       "    .dataframe thead th {\n",
       "        text-align: right;\n",
       "    }\n",
       "</style>\n",
       "<table border=\"1\" class=\"dataframe\">\n",
       "  <thead>\n",
       "    <tr style=\"text-align: right;\">\n",
       "      <th></th>\n",
       "      <th>YYYY</th>\n",
       "      <th>MM</th>\n",
       "      <th>DD</th>\n",
       "      <th>TIME</th>\n",
       "      <th>STAMP</th>\n",
       "      <th>Nhiệt độ</th>\n",
       "      <th>Độ mặn</th>\n",
       "      <th>PH</th>\n",
       "      <th>NH3</th>\n",
       "      <th>H2S</th>\n",
       "      <th>TSS</th>\n",
       "      <th>DO</th>\n",
       "      <th>COD</th>\n",
       "      <th>Ghi chú</th>\n",
       "      <th>Unnamed: 14</th>\n",
       "      <th>Unnamed: 15</th>\n",
       "    </tr>\n",
       "  </thead>\n",
       "  <tbody>\n",
       "    <tr>\n",
       "      <th>211</th>\n",
       "      <td>2019</td>\n",
       "      <td>2</td>\n",
       "      <td>5</td>\n",
       "      <td>06:00</td>\n",
       "      <td>05/02/2019 06:00</td>\n",
       "      <td>18.0</td>\n",
       "      <td>33.0</td>\n",
       "      <td>8.3</td>\n",
       "      <td>0.060</td>\n",
       "      <td>0.000</td>\n",
       "      <td>6.200</td>\n",
       "      <td>6.5</td>\n",
       "      <td>5.6</td>\n",
       "      <td>2018</td>\n",
       "      <td>TTG</td>\n",
       "      <td>NaN</td>\n",
       "    </tr>\n",
       "    <tr>\n",
       "      <th>212</th>\n",
       "      <td>2019</td>\n",
       "      <td>2</td>\n",
       "      <td>5</td>\n",
       "      <td>09:00</td>\n",
       "      <td>05/02/2019 09:00</td>\n",
       "      <td>18.5</td>\n",
       "      <td>35.0</td>\n",
       "      <td>8.2</td>\n",
       "      <td>0.090</td>\n",
       "      <td>0.000</td>\n",
       "      <td>6.188</td>\n",
       "      <td>6.7</td>\n",
       "      <td>5.6</td>\n",
       "      <td>2018</td>\n",
       "      <td>TTG</td>\n",
       "      <td>NaN</td>\n",
       "    </tr>\n",
       "    <tr>\n",
       "      <th>213</th>\n",
       "      <td>2019</td>\n",
       "      <td>2</td>\n",
       "      <td>5</td>\n",
       "      <td>12:00</td>\n",
       "      <td>05/02/2019 12:00</td>\n",
       "      <td>19.0</td>\n",
       "      <td>34.0</td>\n",
       "      <td>7.9</td>\n",
       "      <td>0.120</td>\n",
       "      <td>0.010</td>\n",
       "      <td>6.500</td>\n",
       "      <td>5.8</td>\n",
       "      <td>5.1</td>\n",
       "      <td>2018</td>\n",
       "      <td>TTG</td>\n",
       "      <td>NaN</td>\n",
       "    </tr>\n",
       "    <tr>\n",
       "      <th>214</th>\n",
       "      <td>2019</td>\n",
       "      <td>2</td>\n",
       "      <td>5</td>\n",
       "      <td>15:00</td>\n",
       "      <td>05/02/2019 15:00</td>\n",
       "      <td>19.5</td>\n",
       "      <td>33.9</td>\n",
       "      <td>7.9</td>\n",
       "      <td>0.117</td>\n",
       "      <td>0.010</td>\n",
       "      <td>6.441</td>\n",
       "      <td>5.8</td>\n",
       "      <td>5.0</td>\n",
       "      <td>AVE</td>\n",
       "      <td>NaN</td>\n",
       "      <td>NaN</td>\n",
       "    </tr>\n",
       "    <tr>\n",
       "      <th>215</th>\n",
       "      <td>2019</td>\n",
       "      <td>2</td>\n",
       "      <td>5</td>\n",
       "      <td>18:00</td>\n",
       "      <td>05/02/2019 18:00</td>\n",
       "      <td>19.1</td>\n",
       "      <td>34.9</td>\n",
       "      <td>8.2</td>\n",
       "      <td>0.092</td>\n",
       "      <td>0.000</td>\n",
       "      <td>6.168</td>\n",
       "      <td>6.6</td>\n",
       "      <td>5.5</td>\n",
       "      <td>AVE</td>\n",
       "      <td>NaN</td>\n",
       "      <td>NaN</td>\n",
       "    </tr>\n",
       "    <tr>\n",
       "      <th>...</th>\n",
       "      <td>...</td>\n",
       "      <td>...</td>\n",
       "      <td>...</td>\n",
       "      <td>...</td>\n",
       "      <td>...</td>\n",
       "      <td>...</td>\n",
       "      <td>...</td>\n",
       "      <td>...</td>\n",
       "      <td>...</td>\n",
       "      <td>...</td>\n",
       "      <td>...</td>\n",
       "      <td>...</td>\n",
       "      <td>...</td>\n",
       "      <td>...</td>\n",
       "      <td>...</td>\n",
       "      <td>...</td>\n",
       "    </tr>\n",
       "    <tr>\n",
       "      <th>2093</th>\n",
       "      <td>2019</td>\n",
       "      <td>12</td>\n",
       "      <td>15</td>\n",
       "      <td>18:00</td>\n",
       "      <td>15/12/2019 18:00</td>\n",
       "      <td>23.3</td>\n",
       "      <td>34.9</td>\n",
       "      <td>8.0</td>\n",
       "      <td>0.078</td>\n",
       "      <td>0.001</td>\n",
       "      <td>6.619</td>\n",
       "      <td>6.0</td>\n",
       "      <td>4.3</td>\n",
       "      <td>AVE</td>\n",
       "      <td>NaN</td>\n",
       "      <td>NaN</td>\n",
       "    </tr>\n",
       "    <tr>\n",
       "      <th>2094</th>\n",
       "      <td>2019</td>\n",
       "      <td>12</td>\n",
       "      <td>16</td>\n",
       "      <td>00:00</td>\n",
       "      <td>16/12/2019 00:00</td>\n",
       "      <td>23.1</td>\n",
       "      <td>35.0</td>\n",
       "      <td>8.0</td>\n",
       "      <td>0.089</td>\n",
       "      <td>0.001</td>\n",
       "      <td>6.259</td>\n",
       "      <td>6.0</td>\n",
       "      <td>4.4</td>\n",
       "      <td>AVE</td>\n",
       "      <td>NaN</td>\n",
       "      <td>NaN</td>\n",
       "    </tr>\n",
       "    <tr>\n",
       "      <th>2095</th>\n",
       "      <td>2019</td>\n",
       "      <td>12</td>\n",
       "      <td>16</td>\n",
       "      <td>06:00</td>\n",
       "      <td>16/12/2019 06:00</td>\n",
       "      <td>23.3</td>\n",
       "      <td>35.0</td>\n",
       "      <td>8.1</td>\n",
       "      <td>0.049</td>\n",
       "      <td>0.002</td>\n",
       "      <td>8.130</td>\n",
       "      <td>5.9</td>\n",
       "      <td>4.2</td>\n",
       "      <td>AVE</td>\n",
       "      <td>NaN</td>\n",
       "      <td>NaN</td>\n",
       "    </tr>\n",
       "    <tr>\n",
       "      <th>2096</th>\n",
       "      <td>2019</td>\n",
       "      <td>12</td>\n",
       "      <td>16</td>\n",
       "      <td>09:00</td>\n",
       "      <td>16/12/2019 09:00</td>\n",
       "      <td>23.0</td>\n",
       "      <td>35.0</td>\n",
       "      <td>8.0</td>\n",
       "      <td>0.100</td>\n",
       "      <td>0.000</td>\n",
       "      <td>5.900</td>\n",
       "      <td>6.0</td>\n",
       "      <td>4.4</td>\n",
       "      <td>2019</td>\n",
       "      <td>TTG</td>\n",
       "      <td>NaN</td>\n",
       "    </tr>\n",
       "    <tr>\n",
       "      <th>2097</th>\n",
       "      <td>2019</td>\n",
       "      <td>12</td>\n",
       "      <td>16</td>\n",
       "      <td>12:00</td>\n",
       "      <td>16/12/2019 12:00</td>\n",
       "      <td>23.5</td>\n",
       "      <td>35.0</td>\n",
       "      <td>8.1</td>\n",
       "      <td>0.010</td>\n",
       "      <td>0.004</td>\n",
       "      <td>10.000</td>\n",
       "      <td>5.9</td>\n",
       "      <td>4.1</td>\n",
       "      <td>2019</td>\n",
       "      <td>TTG</td>\n",
       "      <td>NaN</td>\n",
       "    </tr>\n",
       "  </tbody>\n",
       "</table>\n",
       "<p>1887 rows × 16 columns</p>\n",
       "</div>"
      ],
      "text/plain": [
       "      YYYY  MM  DD   TIME             STAMP  Nhiệt độ  Độ mặn   PH    NH3  \\\n",
       "211   2019   2   5  06:00  05/02/2019 06:00      18.0    33.0  8.3  0.060   \n",
       "212   2019   2   5  09:00  05/02/2019 09:00      18.5    35.0  8.2  0.090   \n",
       "213   2019   2   5  12:00  05/02/2019 12:00      19.0    34.0  7.9  0.120   \n",
       "214   2019   2   5  15:00  05/02/2019 15:00      19.5    33.9  7.9  0.117   \n",
       "215   2019   2   5  18:00  05/02/2019 18:00      19.1    34.9  8.2  0.092   \n",
       "...    ...  ..  ..    ...               ...       ...     ...  ...    ...   \n",
       "2093  2019  12  15  18:00  15/12/2019 18:00      23.3    34.9  8.0  0.078   \n",
       "2094  2019  12  16  00:00  16/12/2019 00:00      23.1    35.0  8.0  0.089   \n",
       "2095  2019  12  16  06:00  16/12/2019 06:00      23.3    35.0  8.1  0.049   \n",
       "2096  2019  12  16  09:00  16/12/2019 09:00      23.0    35.0  8.0  0.100   \n",
       "2097  2019  12  16  12:00  16/12/2019 12:00      23.5    35.0  8.1  0.010   \n",
       "\n",
       "        H2S     TSS   DO  COD Ghi chú Unnamed: 14 Unnamed: 15  \n",
       "211   0.000   6.200  6.5  5.6    2018         TTG         NaN  \n",
       "212   0.000   6.188  6.7  5.6    2018         TTG         NaN  \n",
       "213   0.010   6.500  5.8  5.1    2018         TTG         NaN  \n",
       "214   0.010   6.441  5.8  5.0     AVE         NaN         NaN  \n",
       "215   0.000   6.168  6.6  5.5     AVE         NaN         NaN  \n",
       "...     ...     ...  ...  ...     ...         ...         ...  \n",
       "2093  0.001   6.619  6.0  4.3     AVE         NaN         NaN  \n",
       "2094  0.001   6.259  6.0  4.4     AVE         NaN         NaN  \n",
       "2095  0.002   8.130  5.9  4.2     AVE         NaN         NaN  \n",
       "2096  0.000   5.900  6.0  4.4    2019         TTG         NaN  \n",
       "2097  0.004  10.000  5.9  4.1    2019         TTG         NaN  \n",
       "\n",
       "[1887 rows x 16 columns]"
      ]
     },
     "execution_count": 6,
     "metadata": {},
     "output_type": "execute_result"
    }
   ],
   "source": [
    "year = year_2019[211:2098]\n",
    "year"
   ]
  },
  {
   "cell_type": "code",
   "execution_count": 7,
   "metadata": {},
   "outputs": [
    {
     "data": {
      "text/plain": [
       "0"
      ]
     },
     "execution_count": 7,
     "metadata": {},
     "output_type": "execute_result"
    }
   ],
   "source": [
    "# check nan value\n",
    "year['COD'].isnull().sum()"
   ]
  },
  {
   "cell_type": "code",
   "execution_count": 8,
   "metadata": {},
   "outputs": [],
   "source": [
    "# 75% for training and 25% for testing\n",
    "year_training = year[:1415]\n",
    "year_test = year[1416:]"
   ]
  },
  {
   "cell_type": "code",
   "execution_count": 9,
   "metadata": {},
   "outputs": [],
   "source": [
    "Do_man_training = year_training.copy().drop(['YYYY','MM','DD','TIME','STAMP','Nhiệt độ', 'PH', 'NH3', 'H2S', 'TSS','DO', 'COD', 'Ghi chú','Unnamed: 14', 'Unnamed: 15'], axis=1)\n",
    "PH_training = year_training.copy().drop(['YYYY','MM','DD','TIME','STAMP','Nhiệt độ', 'Độ mặn', 'NH3', 'H2S', 'TSS','DO', 'COD', 'Ghi chú','Unnamed: 14', 'Unnamed: 15'], axis=1)\n",
    "NH3_training = year_training.copy().drop(['YYYY','MM','DD','TIME','STAMP','Nhiệt độ', 'Độ mặn', 'PH', 'H2S', 'TSS','DO', 'COD', 'Ghi chú','Unnamed: 14', 'Unnamed: 15'], axis=1)\n",
    "H2S_training = year_training.copy().drop(['YYYY','MM','DD','TIME','STAMP','Nhiệt độ', 'Độ mặn', 'PH', 'NH3', 'TSS','DO', 'COD', 'Ghi chú','Unnamed: 14', 'Unnamed: 15'], axis=1)\n",
    "TSS_training = year_training.copy().drop(['YYYY','MM','DD','TIME','STAMP','Nhiệt độ', 'Độ mặn', 'PH', 'NH3', 'H2S','DO', 'COD', 'Ghi chú','Unnamed: 14', 'Unnamed: 15'], axis=1)\n",
    "DO_training = year_training.copy().drop(['YYYY','MM','DD','TIME','STAMP','Nhiệt độ', 'Độ mặn', 'PH', 'NH3', 'H2S', 'TSS', 'COD', 'Ghi chú','Unnamed: 14', 'Unnamed: 15'], axis=1)\n",
    "COD_training = year_training.copy().drop(['YYYY','MM','DD','TIME','STAMP','Nhiệt độ', 'Độ mặn', 'PH', 'NH3', 'H2S', 'TSS','DO', 'Ghi chú','Unnamed: 14', 'Unnamed: 15'], axis=1)"
   ]
  },
  {
   "cell_type": "code",
   "execution_count": 10,
   "metadata": {},
   "outputs": [
    {
     "data": {
      "text/html": [
       "<div>\n",
       "<style scoped>\n",
       "    .dataframe tbody tr th:only-of-type {\n",
       "        vertical-align: middle;\n",
       "    }\n",
       "\n",
       "    .dataframe tbody tr th {\n",
       "        vertical-align: top;\n",
       "    }\n",
       "\n",
       "    .dataframe thead th {\n",
       "        text-align: right;\n",
       "    }\n",
       "</style>\n",
       "<table border=\"1\" class=\"dataframe\">\n",
       "  <thead>\n",
       "    <tr style=\"text-align: right;\">\n",
       "      <th></th>\n",
       "      <th>DO</th>\n",
       "    </tr>\n",
       "  </thead>\n",
       "  <tbody>\n",
       "    <tr>\n",
       "      <th>211</th>\n",
       "      <td>6.5</td>\n",
       "    </tr>\n",
       "    <tr>\n",
       "      <th>212</th>\n",
       "      <td>6.7</td>\n",
       "    </tr>\n",
       "    <tr>\n",
       "      <th>213</th>\n",
       "      <td>5.8</td>\n",
       "    </tr>\n",
       "    <tr>\n",
       "      <th>214</th>\n",
       "      <td>5.8</td>\n",
       "    </tr>\n",
       "    <tr>\n",
       "      <th>215</th>\n",
       "      <td>6.6</td>\n",
       "    </tr>\n",
       "    <tr>\n",
       "      <th>...</th>\n",
       "      <td>...</td>\n",
       "    </tr>\n",
       "    <tr>\n",
       "      <th>1621</th>\n",
       "      <td>5.1</td>\n",
       "    </tr>\n",
       "    <tr>\n",
       "      <th>1622</th>\n",
       "      <td>5.6</td>\n",
       "    </tr>\n",
       "    <tr>\n",
       "      <th>1623</th>\n",
       "      <td>4.8</td>\n",
       "    </tr>\n",
       "    <tr>\n",
       "      <th>1624</th>\n",
       "      <td>4.7</td>\n",
       "    </tr>\n",
       "    <tr>\n",
       "      <th>1625</th>\n",
       "      <td>5.3</td>\n",
       "    </tr>\n",
       "  </tbody>\n",
       "</table>\n",
       "<p>1415 rows × 1 columns</p>\n",
       "</div>"
      ],
      "text/plain": [
       "       DO\n",
       "211   6.5\n",
       "212   6.7\n",
       "213   5.8\n",
       "214   5.8\n",
       "215   6.6\n",
       "...   ...\n",
       "1621  5.1\n",
       "1622  5.6\n",
       "1623  4.8\n",
       "1624  4.7\n",
       "1625  5.3\n",
       "\n",
       "[1415 rows x 1 columns]"
      ]
     },
     "execution_count": 10,
     "metadata": {},
     "output_type": "execute_result"
    }
   ],
   "source": [
    "DO_training"
   ]
  },
  {
   "cell_type": "code",
   "execution_count": 11,
   "metadata": {},
   "outputs": [],
   "source": [
    "Do_man_test = year_test.copy().drop(['YYYY','MM','DD','TIME','STAMP','Nhiệt độ', 'PH', 'NH3', 'H2S', 'TSS','DO', 'COD', 'Ghi chú','Unnamed: 14', 'Unnamed: 15'], axis=1)\n",
    "PH_test = year_test.copy().drop(['YYYY','MM','DD','TIME','STAMP','Nhiệt độ', 'Độ mặn', 'NH3', 'H2S', 'TSS','DO', 'COD', 'Ghi chú','Unnamed: 14', 'Unnamed: 15'], axis=1)\n",
    "NH3_test = year_test.copy().drop(['YYYY','MM','DD','TIME','STAMP','Nhiệt độ', 'Độ mặn', 'PH', 'H2S', 'TSS','DO', 'COD', 'Ghi chú','Unnamed: 14', 'Unnamed: 15'], axis=1)\n",
    "H2S_test = year_test.copy().drop(['YYYY','MM','DD','TIME','STAMP','Nhiệt độ', 'Độ mặn', 'PH', 'NH3', 'TSS','DO', 'COD', 'Ghi chú','Unnamed: 14', 'Unnamed: 15'], axis=1)\n",
    "TSS_test = year_test.copy().drop(['YYYY','MM','DD','TIME','STAMP','Nhiệt độ', 'Độ mặn', 'PH', 'NH3', 'H2S','DO', 'COD', 'Ghi chú','Unnamed: 14', 'Unnamed: 15'], axis=1)\n",
    "DO_test = year_test.copy().drop(['YYYY','MM','DD','TIME','STAMP','Nhiệt độ', 'Độ mặn', 'PH', 'NH3', 'H2S', 'TSS', 'COD', 'Ghi chú','Unnamed: 14', 'Unnamed: 15'], axis=1)\n",
    "COD_test = year_test.copy().drop(['YYYY','MM','DD','TIME','STAMP','Nhiệt độ', 'Độ mặn', 'PH', 'NH3', 'H2S', 'TSS','DO', 'Ghi chú','Unnamed: 14', 'Unnamed: 15'], axis=1)"
   ]
  },
  {
   "cell_type": "code",
   "execution_count": 12,
   "metadata": {},
   "outputs": [
    {
     "data": {
      "text/html": [
       "<div>\n",
       "<style scoped>\n",
       "    .dataframe tbody tr th:only-of-type {\n",
       "        vertical-align: middle;\n",
       "    }\n",
       "\n",
       "    .dataframe tbody tr th {\n",
       "        vertical-align: top;\n",
       "    }\n",
       "\n",
       "    .dataframe thead th {\n",
       "        text-align: right;\n",
       "    }\n",
       "</style>\n",
       "<table border=\"1\" class=\"dataframe\">\n",
       "  <thead>\n",
       "    <tr style=\"text-align: right;\">\n",
       "      <th></th>\n",
       "      <th>DO</th>\n",
       "    </tr>\n",
       "  </thead>\n",
       "  <tbody>\n",
       "    <tr>\n",
       "      <th>1627</th>\n",
       "      <td>4.9</td>\n",
       "    </tr>\n",
       "    <tr>\n",
       "      <th>1628</th>\n",
       "      <td>5.0</td>\n",
       "    </tr>\n",
       "    <tr>\n",
       "      <th>1629</th>\n",
       "      <td>4.6</td>\n",
       "    </tr>\n",
       "    <tr>\n",
       "      <th>1630</th>\n",
       "      <td>4.7</td>\n",
       "    </tr>\n",
       "    <tr>\n",
       "      <th>1631</th>\n",
       "      <td>5.2</td>\n",
       "    </tr>\n",
       "  </tbody>\n",
       "</table>\n",
       "</div>"
      ],
      "text/plain": [
       "       DO\n",
       "1627  4.9\n",
       "1628  5.0\n",
       "1629  4.6\n",
       "1630  4.7\n",
       "1631  5.2"
      ]
     },
     "execution_count": 12,
     "metadata": {},
     "output_type": "execute_result"
    }
   ],
   "source": [
    "DO_test.head()"
   ]
  },
  {
   "cell_type": "code",
   "execution_count": 13,
   "metadata": {},
   "outputs": [],
   "source": [
    "scaler = MinMaxScaler()"
   ]
  },
  {
   "cell_type": "code",
   "execution_count": 14,
   "metadata": {},
   "outputs": [],
   "source": [
    "Do_man_training = scaler.fit_transform(Do_man_training)\n",
    "PH_training = scaler.fit_transform(PH_training)\n",
    "NH3_training = scaler.fit_transform(NH3_training)\n",
    "H2S_training = scaler.fit_transform(H2S_training)\n",
    "TSS_training = scaler.fit_transform(TSS_training)\n",
    "DO_training = scaler.fit_transform(DO_training)\n",
    "COD_training = scaler.fit_transform(COD_training)"
   ]
  },
  {
   "cell_type": "code",
   "execution_count": 15,
   "metadata": {},
   "outputs": [
    {
     "data": {
      "text/plain": [
       "array([[0.4       ],\n",
       "       [0.4       ],\n",
       "       [0.35652174],\n",
       "       ...,\n",
       "       [0.3826087 ],\n",
       "       [0.27826087],\n",
       "       [0.23478261]])"
      ]
     },
     "execution_count": 15,
     "metadata": {},
     "output_type": "execute_result"
    }
   ],
   "source": [
    "COD_training"
   ]
  },
  {
   "cell_type": "code",
   "execution_count": 16,
   "metadata": {},
   "outputs": [],
   "source": [
    "def get_x_y(data_training):\n",
    "    X_train = []\n",
    "    y_train = []\n",
    "\n",
    "    for i in range(60, data_training.shape[0]):\n",
    "        X_train.append(data_training[i-60:i])\n",
    "        y_train.append(data_training[i, 0])\n",
    "\n",
    "    X_train, y_train = np.array(X_train), np.array(y_train)\n",
    "    return X_train, y_train"
   ]
  },
  {
   "cell_type": "code",
   "execution_count": 17,
   "metadata": {},
   "outputs": [],
   "source": [
    "Do_man_X_train,Do_man_y_train = get_x_y(Do_man_training)\n",
    "PH_X_train, PH_y_train = get_x_y(PH_training)\n",
    "NH3_X_train, NH3_y_train = get_x_y(NH3_training)\n",
    "H2S_X_train, H2S_y_train = get_x_y(H2S_training)\n",
    "TSS_X_train, TSS_y_train = get_x_y(TSS_training)\n",
    "DO_X_train, DO_y_train = get_x_y(DO_training)\n",
    "COD_X_train, COD_y_train = get_x_y(COD_training)"
   ]
  },
  {
   "cell_type": "code",
   "execution_count": 18,
   "metadata": {},
   "outputs": [
    {
     "data": {
      "text/plain": [
       "(1355, 60, 1)"
      ]
     },
     "execution_count": 18,
     "metadata": {},
     "output_type": "execute_result"
    }
   ],
   "source": [
    "DO_X_train.shape"
   ]
  },
  {
   "cell_type": "code",
   "execution_count": 19,
   "metadata": {},
   "outputs": [],
   "source": [
    "Do_man_test = scaler.fit_transform(Do_man_test)\n",
    "PH_test = scaler.fit_transform(PH_test)\n",
    "NH3_test = scaler.fit_transform(NH3_test)\n",
    "H2S_test = scaler.fit_transform(H2S_test)\n",
    "TSS_test = scaler.fit_transform(TSS_test)\n",
    "DO_test = scaler.fit_transform(DO_test)\n",
    "COD_test = scaler.fit_transform(COD_test)"
   ]
  },
  {
   "cell_type": "code",
   "execution_count": 20,
   "metadata": {},
   "outputs": [
    {
     "data": {
      "text/plain": [
       "array([[0.171875],\n",
       "       [0.078125],\n",
       "       [0.15625 ],\n",
       "       [0.25    ],\n",
       "       [0.171875],\n",
       "       [0.21875 ],\n",
       "       [0.28125 ],\n",
       "       [0.265625],\n",
       "       [0.34375 ],\n",
       "       [0.328125],\n",
       "       [0.28125 ],\n",
       "       [0.296875],\n",
       "       [0.3125  ],\n",
       "       [0.296875],\n",
       "       [0.328125],\n",
       "       [0.3125  ],\n",
       "       [0.3125  ],\n",
       "       [0.328125],\n",
       "       [0.3125  ],\n",
       "       [0.34375 ],\n",
       "       [0.3125  ],\n",
       "       [0.328125],\n",
       "       [0.40625 ],\n",
       "       [0.453125],\n",
       "       [0.40625 ],\n",
       "       [0.484375],\n",
       "       [0.359375],\n",
       "       [0.390625],\n",
       "       [0.5625  ],\n",
       "       [0.59375 ],\n",
       "       [0.515625],\n",
       "       [0.640625],\n",
       "       [0.421875],\n",
       "       [0.4375  ],\n",
       "       [0.609375],\n",
       "       [0.609375],\n",
       "       [0.53125 ],\n",
       "       [0.59375 ],\n",
       "       [0.453125],\n",
       "       [0.421875],\n",
       "       [0.640625],\n",
       "       [0.65625 ],\n",
       "       [0.53125 ],\n",
       "       [0.6875  ],\n",
       "       [0.390625],\n",
       "       [0.359375],\n",
       "       [0.71875 ],\n",
       "       [0.75    ],\n",
       "       [0.53125 ],\n",
       "       [0.765625],\n",
       "       [0.328125],\n",
       "       [0.359375],\n",
       "       [0.71875 ],\n",
       "       [0.703125],\n",
       "       [0.546875],\n",
       "       [0.6875  ],\n",
       "       [0.390625],\n",
       "       [0.375   ],\n",
       "       [0.703125],\n",
       "       [0.71875 ],\n",
       "       [0.53125 ],\n",
       "       [0.71875 ],\n",
       "       [0.359375],\n",
       "       [0.375   ],\n",
       "       [0.71875 ],\n",
       "       [0.703125],\n",
       "       [0.546875],\n",
       "       [0.703125],\n",
       "       [0.375   ],\n",
       "       [0.328125],\n",
       "       [0.625   ],\n",
       "       [0.59375 ],\n",
       "       [0.4375  ],\n",
       "       [0.546875],\n",
       "       [0.296875],\n",
       "       [0.25    ],\n",
       "       [0.46875 ],\n",
       "       [0.4375  ],\n",
       "       [0.3125  ],\n",
       "       [0.390625],\n",
       "       [0.203125],\n",
       "       [0.265625],\n",
       "       [0.359375],\n",
       "       [0.328125],\n",
       "       [0.328125],\n",
       "       [0.3125  ],\n",
       "       [0.3125  ],\n",
       "       [0.375   ],\n",
       "       [0.265625],\n",
       "       [0.25    ],\n",
       "       [0.328125],\n",
       "       [0.21875 ],\n",
       "       [0.421875],\n",
       "       [0.359375],\n",
       "       [0.1875  ],\n",
       "       [0.171875],\n",
       "       [0.234375],\n",
       "       [0.15625 ],\n",
       "       [0.3125  ],\n",
       "       [0.421875],\n",
       "       [0.21875 ],\n",
       "       [0.265625],\n",
       "       [0.40625 ],\n",
       "       [0.296875],\n",
       "       [0.546875],\n",
       "       [0.3125  ],\n",
       "       [0.15625 ],\n",
       "       [0.09375 ],\n",
       "       [0.078125],\n",
       "       [0.03125 ],\n",
       "       [0.078125],\n",
       "       [0.546875],\n",
       "       [0.296875],\n",
       "       [0.421875],\n",
       "       [0.71875 ],\n",
       "       [0.5625  ],\n",
       "       [1.      ],\n",
       "       [0.890625],\n",
       "       [0.75    ],\n",
       "       [0.828125],\n",
       "       [0.796875],\n",
       "       [0.921875],\n",
       "       [0.765625],\n",
       "       [0.640625],\n",
       "       [0.71875 ],\n",
       "       [0.609375],\n",
       "       [0.5625  ],\n",
       "       [0.515625],\n",
       "       [0.515625],\n",
       "       [0.375   ],\n",
       "       [0.296875],\n",
       "       [0.203125],\n",
       "       [0.21875 ],\n",
       "       [0.09375 ],\n",
       "       [0.25    ],\n",
       "       [0.3125  ],\n",
       "       [0.140625],\n",
       "       [0.15625 ],\n",
       "       [0.265625],\n",
       "       [0.171875],\n",
       "       [0.375   ],\n",
       "       [0.375   ],\n",
       "       [0.1875  ],\n",
       "       [0.1875  ],\n",
       "       [0.265625],\n",
       "       [0.1875  ],\n",
       "       [0.359375],\n",
       "       [0.359375],\n",
       "       [0.203125],\n",
       "       [0.203125],\n",
       "       [0.28125 ],\n",
       "       [0.203125],\n",
       "       [0.359375],\n",
       "       [0.34375 ],\n",
       "       [0.203125],\n",
       "       [0.203125],\n",
       "       [0.28125 ],\n",
       "       [0.21875 ],\n",
       "       [0.34375 ],\n",
       "       [0.34375 ],\n",
       "       [0.21875 ],\n",
       "       [0.21875 ],\n",
       "       [0.28125 ],\n",
       "       [0.21875 ],\n",
       "       [0.34375 ],\n",
       "       [0.328125],\n",
       "       [0.21875 ],\n",
       "       [0.234375],\n",
       "       [0.28125 ],\n",
       "       [0.234375],\n",
       "       [0.328125],\n",
       "       [0.328125],\n",
       "       [0.234375],\n",
       "       [0.25    ],\n",
       "       [0.28125 ],\n",
       "       [0.25    ],\n",
       "       [0.3125  ],\n",
       "       [0.3125  ],\n",
       "       [0.265625],\n",
       "       [0.265625],\n",
       "       [0.28125 ],\n",
       "       [0.265625],\n",
       "       [0.296875],\n",
       "       [0.296875],\n",
       "       [0.28125 ],\n",
       "       [0.28125 ],\n",
       "       [0.28125 ],\n",
       "       [0.296875],\n",
       "       [0.28125 ],\n",
       "       [0.28125 ],\n",
       "       [0.296875],\n",
       "       [0.296875],\n",
       "       [0.28125 ],\n",
       "       [0.296875],\n",
       "       [0.28125 ],\n",
       "       [0.265625],\n",
       "       [0.296875],\n",
       "       [0.3125  ],\n",
       "       [0.28125 ],\n",
       "       [0.3125  ],\n",
       "       [0.265625],\n",
       "       [0.265625],\n",
       "       [0.3125  ],\n",
       "       [0.328125],\n",
       "       [0.28125 ],\n",
       "       [0.328125],\n",
       "       [0.25    ],\n",
       "       [0.28125 ],\n",
       "       [0.265625],\n",
       "       [0.234375],\n",
       "       [0.28125 ],\n",
       "       [0.21875 ],\n",
       "       [0.3125  ],\n",
       "       [0.34375 ],\n",
       "       [0.15625 ],\n",
       "       [0.125   ],\n",
       "       [0.25    ],\n",
       "       [0.09375 ],\n",
       "       [0.375   ],\n",
       "       [0.25    ],\n",
       "       [0.21875 ],\n",
       "       [0.265625],\n",
       "       [0.203125],\n",
       "       [0.328125],\n",
       "       [0.125   ],\n",
       "       [0.15625 ],\n",
       "       [0.34375 ],\n",
       "       [0.34375 ],\n",
       "       [0.265625],\n",
       "       [0.359375],\n",
       "       [0.171875],\n",
       "       [0.203125],\n",
       "       [0.375   ],\n",
       "       [0.375   ],\n",
       "       [0.296875],\n",
       "       [0.390625],\n",
       "       [0.234375],\n",
       "       [0.25    ],\n",
       "       [0.40625 ],\n",
       "       [0.40625 ],\n",
       "       [0.34375 ],\n",
       "       [0.421875],\n",
       "       [0.28125 ],\n",
       "       [0.296875],\n",
       "       [0.4375  ],\n",
       "       [0.4375  ],\n",
       "       [0.390625],\n",
       "       [0.453125],\n",
       "       [0.328125],\n",
       "       [0.359375],\n",
       "       [0.453125],\n",
       "       [0.46875 ],\n",
       "       [0.421875],\n",
       "       [0.46875 ],\n",
       "       [0.375   ],\n",
       "       [0.40625 ],\n",
       "       [0.484375],\n",
       "       [0.5     ],\n",
       "       [0.46875 ],\n",
       "       [0.5     ],\n",
       "       [0.4375  ],\n",
       "       [0.484375],\n",
       "       [0.53125 ],\n",
       "       [0.546875],\n",
       "       [0.546875],\n",
       "       [0.5625  ],\n",
       "       [0.53125 ],\n",
       "       [0.203125],\n",
       "       [0.53125 ],\n",
       "       [0.515625],\n",
       "       [0.53125 ],\n",
       "       [0.5     ],\n",
       "       [0.546875],\n",
       "       [0.546875],\n",
       "       [0.453125],\n",
       "       [0.4375  ],\n",
       "       [0.5     ],\n",
       "       [0.421875],\n",
       "       [0.546875],\n",
       "       [0.546875],\n",
       "       [0.390625],\n",
       "       [0.375   ],\n",
       "       [0.46875 ],\n",
       "       [0.359375],\n",
       "       [0.5625  ],\n",
       "       [0.5625  ],\n",
       "       [0.3125  ],\n",
       "       [0.296875],\n",
       "       [0.4375  ],\n",
       "       [0.28125 ],\n",
       "       [0.5625  ],\n",
       "       [0.5     ],\n",
       "       [0.25    ],\n",
       "       [0.234375],\n",
       "       [0.328125],\n",
       "       [0.21875 ],\n",
       "       [0.4375  ],\n",
       "       [0.375   ],\n",
       "       [0.171875],\n",
       "       [0.15625 ],\n",
       "       [0.234375],\n",
       "       [0.140625],\n",
       "       [0.328125],\n",
       "       [0.296875],\n",
       "       [0.125   ],\n",
       "       [0.109375],\n",
       "       [0.1875  ],\n",
       "       [0.109375],\n",
       "       [0.265625],\n",
       "       [0.234375],\n",
       "       [0.09375 ],\n",
       "       [0.078125],\n",
       "       [0.140625],\n",
       "       [0.078125],\n",
       "       [0.203125],\n",
       "       [0.171875],\n",
       "       [0.046875],\n",
       "       [0.046875],\n",
       "       [0.09375 ],\n",
       "       [0.03125 ],\n",
       "       [0.140625],\n",
       "       [0.109375],\n",
       "       [0.015625],\n",
       "       [0.015625],\n",
       "       [0.046875],\n",
       "       [0.      ],\n",
       "       [0.078125],\n",
       "       [0.140625],\n",
       "       [0.03125 ],\n",
       "       [0.046875],\n",
       "       [0.125   ],\n",
       "       [0.078125],\n",
       "       [0.203125],\n",
       "       [0.265625],\n",
       "       [0.109375],\n",
       "       [0.125   ],\n",
       "       [0.21875 ],\n",
       "       [0.140625],\n",
       "       [0.328125],\n",
       "       [0.296875],\n",
       "       [0.125   ],\n",
       "       [0.109375],\n",
       "       [0.1875  ],\n",
       "       [0.109375],\n",
       "       [0.265625],\n",
       "       [0.234375],\n",
       "       [0.09375 ],\n",
       "       [0.078125],\n",
       "       [0.140625],\n",
       "       [0.078125],\n",
       "       [0.203125],\n",
       "       [0.171875],\n",
       "       [0.046875],\n",
       "       [0.046875],\n",
       "       [0.09375 ],\n",
       "       [0.03125 ],\n",
       "       [0.140625],\n",
       "       [0.109375],\n",
       "       [0.015625],\n",
       "       [0.015625],\n",
       "       [0.046875],\n",
       "       [0.      ],\n",
       "       [0.078125],\n",
       "       [0.09375 ],\n",
       "       [0.046875],\n",
       "       [0.0625  ],\n",
       "       [0.078125],\n",
       "       [0.078125],\n",
       "       [0.109375],\n",
       "       [0.125   ],\n",
       "       [0.125   ],\n",
       "       [0.140625],\n",
       "       [0.140625],\n",
       "       [0.171875],\n",
       "       [0.140625],\n",
       "       [0.15625 ],\n",
       "       [0.203125],\n",
       "       [0.21875 ],\n",
       "       [0.203125],\n",
       "       [0.25    ],\n",
       "       [0.171875],\n",
       "       [0.1875  ],\n",
       "       [0.28125 ],\n",
       "       [0.3125  ],\n",
       "       [0.25    ],\n",
       "       [0.328125],\n",
       "       [0.203125],\n",
       "       [0.25    ],\n",
       "       [0.3125  ],\n",
       "       [0.296875],\n",
       "       [0.296875],\n",
       "       [0.296875],\n",
       "       [0.296875],\n",
       "       [0.328125],\n",
       "       [0.265625],\n",
       "       [0.265625],\n",
       "       [0.3125  ],\n",
       "       [0.25    ],\n",
       "       [0.375   ],\n",
       "       [0.359375],\n",
       "       [0.3125  ],\n",
       "       [0.34375 ],\n",
       "       [0.34375 ],\n",
       "       [0.375   ],\n",
       "       [0.359375],\n",
       "       [0.359375],\n",
       "       [0.359375],\n",
       "       [0.359375],\n",
       "       [0.359375],\n",
       "       [0.359375],\n",
       "       [0.359375],\n",
       "       [0.359375],\n",
       "       [0.359375],\n",
       "       [0.34375 ],\n",
       "       [0.34375 ],\n",
       "       [0.34375 ],\n",
       "       [0.359375],\n",
       "       [0.359375],\n",
       "       [0.34375 ],\n",
       "       [0.34375 ],\n",
       "       [0.34375 ],\n",
       "       [0.34375 ],\n",
       "       [0.359375],\n",
       "       [0.359375],\n",
       "       [0.34375 ],\n",
       "       [0.34375 ],\n",
       "       [0.34375 ],\n",
       "       [0.328125],\n",
       "       [0.359375],\n",
       "       [0.359375],\n",
       "       [0.328125],\n",
       "       [0.3125  ],\n",
       "       [0.328125],\n",
       "       [0.3125  ],\n",
       "       [0.359375],\n",
       "       [0.34375 ],\n",
       "       [0.328125],\n",
       "       [0.328125],\n",
       "       [0.34375 ],\n",
       "       [0.34375 ],\n",
       "       [0.34375 ],\n",
       "       [0.34375 ],\n",
       "       [0.328125],\n",
       "       [0.328125],\n",
       "       [0.34375 ],\n",
       "       [0.328125],\n",
       "       [0.34375 ],\n",
       "       [0.34375 ],\n",
       "       [0.34375 ],\n",
       "       [0.34375 ],\n",
       "       [0.34375 ],\n",
       "       [0.34375 ],\n",
       "       [0.34375 ],\n",
       "       [0.34375 ],\n",
       "       [0.34375 ],\n",
       "       [0.34375 ],\n",
       "       [0.34375 ],\n",
       "       [0.34375 ],\n",
       "       [0.34375 ],\n",
       "       [0.328125],\n",
       "       [0.34375 ],\n",
       "       [0.359375],\n",
       "       [0.34375 ],\n",
       "       [0.359375],\n",
       "       [0.328125],\n",
       "       [0.328125],\n",
       "       [0.359375],\n",
       "       [0.375   ],\n",
       "       [0.34375 ],\n",
       "       [0.375   ],\n",
       "       [0.328125]])"
      ]
     },
     "execution_count": 20,
     "metadata": {},
     "output_type": "execute_result"
    }
   ],
   "source": [
    "COD_test"
   ]
  },
  {
   "cell_type": "code",
   "execution_count": 21,
   "metadata": {},
   "outputs": [],
   "source": [
    "Do_man_X_test,Do_man_y_test = get_x_y(Do_man_test)\n",
    "PH_X_test, PH_y_test = get_x_y(PH_test)\n",
    "NH3_X_test, NH3_y_test = get_x_y(NH3_test)\n",
    "H2S_X_test, H2S_y_test = get_x_y(H2S_test)\n",
    "TSS_X_test, TSS_y_test = get_x_y(TSS_test)\n",
    "DO_X_test, DO_y_test = get_x_y(DO_test)\n",
    "COD_X_test, COD_y_test = get_x_y(COD_test)"
   ]
  },
  {
   "cell_type": "code",
   "execution_count": 22,
   "metadata": {},
   "outputs": [
    {
     "data": {
      "text/plain": [
       "((411, 60, 1), (411,))"
      ]
     },
     "execution_count": 22,
     "metadata": {},
     "output_type": "execute_result"
    }
   ],
   "source": [
    "NH3_X_test.shape, NH3_y_test.shape"
   ]
  },
  {
   "cell_type": "code",
   "execution_count": 40,
   "metadata": {},
   "outputs": [
    {
     "ename": "TypeError",
     "evalue": "'numpy.float64' object is not callable",
     "output_type": "error",
     "traceback": [
      "\u001b[0;31m---------------------------------------------------------------------------\u001b[0m",
      "\u001b[0;31mTypeError\u001b[0m                                 Traceback (most recent call last)",
      "\u001b[0;32m<ipython-input-40-8fd55817017b>\u001b[0m in \u001b[0;36m<module>\u001b[0;34m\u001b[0m\n\u001b[1;32m      1\u001b[0m \u001b[0;31m#use for plot cdf\u001b[0m\u001b[0;34m\u001b[0m\u001b[0;34m\u001b[0m\u001b[0;34m\u001b[0m\u001b[0m\n\u001b[0;32m----> 2\u001b[0;31m \u001b[0mlose\u001b[0m \u001b[0;34m=\u001b[0m \u001b[0;34m[\u001b[0m\u001b[0;36m0.1\u001b[0m\u001b[0;34m*\u001b[0m\u001b[0mi\u001b[0m \u001b[0;32mfor\u001b[0m \u001b[0mi\u001b[0m \u001b[0;32min\u001b[0m \u001b[0mrange\u001b[0m\u001b[0;34m(\u001b[0m\u001b[0;36m1\u001b[0m\u001b[0;34m,\u001b[0m\u001b[0;36m101\u001b[0m\u001b[0;34m)\u001b[0m\u001b[0;34m]\u001b[0m\u001b[0;34m\u001b[0m\u001b[0;34m\u001b[0m\u001b[0m\n\u001b[0m\u001b[1;32m      3\u001b[0m \u001b[0mlose\u001b[0m\u001b[0;34m\u001b[0m\u001b[0;34m\u001b[0m\u001b[0m\n",
      "\u001b[0;31mTypeError\u001b[0m: 'numpy.float64' object is not callable"
     ]
    }
   ],
   "source": [
    "#use for plot cdf\n",
    "lose = [0.1*i for i in range(1,101)]\n",
    "lose"
   ]
  },
  {
   "cell_type": "code",
   "execution_count": 60,
   "metadata": {},
   "outputs": [
    {
     "data": {
      "text/plain": [
       "99"
      ]
     },
     "execution_count": 60,
     "metadata": {},
     "output_type": "execute_result"
    }
   ],
   "source": [
    "len(lose)"
   ]
  },
  {
   "cell_type": "code",
   "execution_count": 65,
   "metadata": {},
   "outputs": [],
   "source": [
    "def get_cdf(x):\n",
    "    cdf=[]\n",
    "    d=1\n",
    "    while d<100:\n",
    "        count = 0\n",
    "        for i in x:\n",
    "            for j in i :\n",
    "                if j < (0.1*d):\n",
    "                    count=count+1\n",
    "        a = count/(len(x)*len(x))\n",
    "        cdf.append(a)\n",
    "        d=d+1\n",
    "    return cdf"
   ]
  },
  {
   "cell_type": "markdown",
   "metadata": {},
   "source": [
    "# Model"
   ]
  },
  {
   "cell_type": "markdown",
   "metadata": {},
   "source": [
    "## LSTM Model"
   ]
  },
  {
   "cell_type": "code",
   "execution_count": 24,
   "metadata": {},
   "outputs": [],
   "source": [
    "from tensorflow.keras import Sequential\n",
    "from tensorflow.keras.layers import Dense, LSTM, Dropout\n",
    "import tensorflow as tf\n",
    "from tensorflow.keras import layers\n",
    "from tensorflow.keras.layers.experimental import preprocessing\n",
    "from tensorflow.keras.models import load_model"
   ]
  },
  {
   "cell_type": "code",
   "execution_count": 25,
   "metadata": {},
   "outputs": [],
   "source": [
    "LSTM_model = Sequential()\n",
    "\n",
    "LSTM_model.add(LSTM(units = 60, activation = 'relu', return_sequences = True, input_shape = (Do_man_X_train.shape[1], 1)))\n",
    "LSTM_model.add(Dropout(0.2))\n",
    "\n",
    "LSTM_model.add(LSTM(units = 60, activation = 'relu', return_sequences = True))\n",
    "LSTM_model.add(Dropout(0.2))\n",
    "\n",
    "LSTM_model.add(LSTM(units = 80, activation = 'relu', return_sequences = True))\n",
    "LSTM_model.add(Dropout(0.2))\n",
    "\n",
    "LSTM_model.add(LSTM(units = 120, activation = 'relu'))\n",
    "LSTM_model.add(Dropout(0.2))\n",
    "\n",
    "LSTM_model.add(Dense(units = 1))"
   ]
  },
  {
   "cell_type": "code",
   "execution_count": 26,
   "metadata": {},
   "outputs": [
    {
     "name": "stdout",
     "output_type": "stream",
     "text": [
      "Model: \"sequential\"\n",
      "_________________________________________________________________\n",
      "Layer (type)                 Output Shape              Param #   \n",
      "=================================================================\n",
      "lstm (LSTM)                  (None, 60, 60)            14880     \n",
      "_________________________________________________________________\n",
      "dropout (Dropout)            (None, 60, 60)            0         \n",
      "_________________________________________________________________\n",
      "lstm_1 (LSTM)                (None, 60, 60)            29040     \n",
      "_________________________________________________________________\n",
      "dropout_1 (Dropout)          (None, 60, 60)            0         \n",
      "_________________________________________________________________\n",
      "lstm_2 (LSTM)                (None, 60, 80)            45120     \n",
      "_________________________________________________________________\n",
      "dropout_2 (Dropout)          (None, 60, 80)            0         \n",
      "_________________________________________________________________\n",
      "lstm_3 (LSTM)                (None, 120)               96480     \n",
      "_________________________________________________________________\n",
      "dropout_3 (Dropout)          (None, 120)               0         \n",
      "_________________________________________________________________\n",
      "dense (Dense)                (None, 1)                 121       \n",
      "=================================================================\n",
      "Total params: 185,641\n",
      "Trainable params: 185,641\n",
      "Non-trainable params: 0\n",
      "_________________________________________________________________\n"
     ]
    }
   ],
   "source": [
    "LSTM_model.summary()"
   ]
  },
  {
   "cell_type": "markdown",
   "metadata": {},
   "source": [
    "# ##Training with Do_man"
   ]
  },
  {
   "cell_type": "code",
   "execution_count": 27,
   "metadata": {},
   "outputs": [
    {
     "name": "stdout",
     "output_type": "stream",
     "text": [
      "Epoch 1/50\n",
      "43/43 [==============================] - 13s 306ms/step - loss: 0.0997\n",
      "Epoch 2/50\n",
      "43/43 [==============================] - 14s 325ms/step - loss: 0.0222\n",
      "Epoch 3/50\n",
      "43/43 [==============================] - 14s 318ms/step - loss: 0.0222\n",
      "Epoch 4/50\n",
      "43/43 [==============================] - 14s 315ms/step - loss: 0.0217\n",
      "Epoch 5/50\n",
      "43/43 [==============================] - 14s 321ms/step - loss: 0.0210\n",
      "Epoch 6/50\n",
      "43/43 [==============================] - 14s 323ms/step - loss: 0.0208\n",
      "Epoch 7/50\n",
      "43/43 [==============================] - 13s 306ms/step - loss: 0.0219\n",
      "Epoch 8/50\n",
      "43/43 [==============================] - 14s 317ms/step - loss: 0.0205\n",
      "Epoch 9/50\n",
      "43/43 [==============================] - 14s 320ms/step - loss: 0.0202\n",
      "Epoch 10/50\n",
      "43/43 [==============================] - 14s 316ms/step - loss: 0.0196\n",
      "Epoch 11/50\n",
      "43/43 [==============================] - 13s 314ms/step - loss: 0.0208\n",
      "Epoch 12/50\n",
      "43/43 [==============================] - 14s 322ms/step - loss: 0.0193\n",
      "Epoch 13/50\n",
      "43/43 [==============================] - 14s 326ms/step - loss: 0.0183\n",
      "Epoch 14/50\n",
      "43/43 [==============================] - 13s 298ms/step - loss: 0.0177\n",
      "Epoch 15/50\n",
      "43/43 [==============================] - 14s 319ms/step - loss: 0.0186\n",
      "Epoch 16/50\n",
      "43/43 [==============================] - 14s 322ms/step - loss: 0.0169\n",
      "Epoch 17/50\n",
      "43/43 [==============================] - 13s 311ms/step - loss: 0.0159\n",
      "Epoch 18/50\n",
      "43/43 [==============================] - 13s 301ms/step - loss: 0.0154\n",
      "Epoch 19/50\n",
      "43/43 [==============================] - 13s 314ms/step - loss: 0.0173\n",
      "Epoch 20/50\n",
      "43/43 [==============================] - 13s 310ms/step - loss: 0.0164\n",
      "Epoch 21/50\n",
      "43/43 [==============================] - 13s 295ms/step - loss: 0.0141\n",
      "Epoch 22/50\n",
      "43/43 [==============================] - 13s 302ms/step - loss: 0.0141\n",
      "Epoch 23/50\n",
      "43/43 [==============================] - 13s 304ms/step - loss: 0.0136\n",
      "Epoch 24/50\n",
      "43/43 [==============================] - 13s 305ms/step - loss: 0.0129\n",
      "Epoch 25/50\n",
      "43/43 [==============================] - 13s 304ms/step - loss: 0.0128\n",
      "Epoch 26/50\n",
      "43/43 [==============================] - 13s 311ms/step - loss: 0.0121\n",
      "Epoch 27/50\n",
      "43/43 [==============================] - 13s 301ms/step - loss: 0.0130\n",
      "Epoch 28/50\n",
      "43/43 [==============================] - 13s 300ms/step - loss: 0.0119\n",
      "Epoch 29/50\n",
      "43/43 [==============================] - 12s 287ms/step - loss: 0.0122\n",
      "Epoch 30/50\n",
      "43/43 [==============================] - 13s 304ms/step - loss: 0.0118\n",
      "Epoch 31/50\n",
      "43/43 [==============================] - 14s 315ms/step - loss: 0.0107\n",
      "Epoch 32/50\n",
      "43/43 [==============================] - 13s 298ms/step - loss: 0.0115\n",
      "Epoch 33/50\n",
      "43/43 [==============================] - 13s 296ms/step - loss: 0.0112\n",
      "Epoch 34/50\n",
      "43/43 [==============================] - 13s 298ms/step - loss: 0.0116\n",
      "Epoch 35/50\n",
      "43/43 [==============================] - 13s 304ms/step - loss: 0.0106\n",
      "Epoch 36/50\n",
      "43/43 [==============================] - 13s 302ms/step - loss: 0.0097\n",
      "Epoch 37/50\n",
      "43/43 [==============================] - 13s 304ms/step - loss: 0.0102\n",
      "Epoch 38/50\n",
      "43/43 [==============================] - 13s 305ms/step - loss: 0.0098\n",
      "Epoch 39/50\n",
      "43/43 [==============================] - 13s 300ms/step - loss: 0.0100\n",
      "Epoch 40/50\n",
      "43/43 [==============================] - 13s 297ms/step - loss: 0.0096\n",
      "Epoch 41/50\n",
      "43/43 [==============================] - 13s 305ms/step - loss: 0.0095\n",
      "Epoch 42/50\n",
      "43/43 [==============================] - 13s 304ms/step - loss: 0.0094\n",
      "Epoch 43/50\n",
      "43/43 [==============================] - 13s 301ms/step - loss: 0.0096\n",
      "Epoch 44/50\n",
      "43/43 [==============================] - 13s 297ms/step - loss: 0.0090\n",
      "Epoch 45/50\n",
      "43/43 [==============================] - 13s 301ms/step - loss: 0.0088\n",
      "Epoch 46/50\n",
      "43/43 [==============================] - 13s 305ms/step - loss: 0.0092\n",
      "Epoch 47/50\n",
      "43/43 [==============================] - 13s 297ms/step - loss: 0.0090\n",
      "Epoch 48/50\n",
      "43/43 [==============================] - 13s 313ms/step - loss: 0.0090\n",
      "Epoch 49/50\n",
      "43/43 [==============================] - 14s 322ms/step - loss: 0.0096\n",
      "Epoch 50/50\n",
      "43/43 [==============================] - 13s 306ms/step - loss: 0.0093\n",
      "CPU times: user 18min 36s, sys: 2min 4s, total: 20min 40s\n",
      "Wall time: 11min 26s\n"
     ]
    },
    {
     "data": {
      "text/plain": [
       "<tensorflow.python.keras.callbacks.History at 0x7fbcbcce0250>"
      ]
     },
     "execution_count": 27,
     "metadata": {},
     "output_type": "execute_result"
    }
   ],
   "source": [
    "%%time\n",
    "LSTM_model.compile(optimizer='adam', loss='mean_squared_error')\n",
    "LSTM_model.fit(Do_man_X_train,Do_man_y_train, epochs=50, batch_size=32)"
   ]
  },
  {
   "cell_type": "code",
   "execution_count": 28,
   "metadata": {},
   "outputs": [],
   "source": [
    "LSTM_model.save('Do_man_LSTM_model.h5')"
   ]
  },
  {
   "cell_type": "code",
   "execution_count": 29,
   "metadata": {},
   "outputs": [],
   "source": [
    "Do_man_LSTM_model = load_model('Do_man_LSTM_model.h5')"
   ]
  },
  {
   "cell_type": "code",
   "execution_count": 30,
   "metadata": {},
   "outputs": [],
   "source": [
    "Do_man_y_pred_LSTM_model = Do_man_LSTM_model.predict(Do_man_X_test)"
   ]
  },
  {
   "cell_type": "code",
   "execution_count": 32,
   "metadata": {},
   "outputs": [
    {
     "data": {
      "text/plain": [
       "array([0.15625])"
      ]
     },
     "execution_count": 32,
     "metadata": {},
     "output_type": "execute_result"
    }
   ],
   "source": [
    "scale = scaler.scale_\n",
    "scale"
   ]
  },
  {
   "cell_type": "code",
   "execution_count": 33,
   "metadata": {},
   "outputs": [],
   "source": [
    "Do_man_y_pred_LSTM_model = Do_man_y_pred_LSTM_model*1/scale\n",
    "Do_man_y_test = Do_man_y_test*1/scale"
   ]
  },
  {
   "cell_type": "code",
   "execution_count": 38,
   "metadata": {},
   "outputs": [
    {
     "data": {
      "image/png": "[encoded data removed]",
      "text/plain": [
       "<Figure size 1008x360 with 1 Axes>"
      ]
     },
     "metadata": {
      "needs_background": "light"
     },
     "output_type": "display_data"
    }
   ],
   "source": [
    "# Visualising the results\n",
    "plt.figure(figsize=(14,5))\n",
    "plt.plot(Do_man_y_test, color = 'red', label = 'Actual')\n",
    "plt.plot(Do_man_y_pred_LSTM_model, color = 'blue', label = 'Forecast')\n",
    "plt.title('Compare Weather Forecast vs Actual')\n",
    "plt.xlabel('Time')\n",
    "plt.ylabel('Salinity')\n",
    "plt.legend()\n",
    "plt.show()"
   ]
  },
  {
   "cell_type": "code",
   "execution_count": 35,
   "metadata": {},
   "outputs": [],
   "source": [
    "Do_man_lose_LSTM_model=abs(Do_man_y_test-Do_man_y_pred_LSTM_model)"
   ]
  },
  {
   "cell_type": "code",
   "execution_count": 36,
   "metadata": {},
   "outputs": [
    {
     "name": "stdout",
     "output_type": "stream",
     "text": [
      "Measures of Dispersion\n",
      "Mean = 1.2065386360032546\n",
      "Minimum = 0.0001585943048665328\n",
      "Maximum = 6.286983871459961\n",
      "Range = 6.286825277155095\n",
      "Varience = 0.9021699068868998\n",
      "Standard Deviation = 0.949826250893762\n"
     ]
    }
   ],
   "source": [
    "mean = np.mean(Do_man_lose_LSTM_model)\n",
    "min = np.amin(Do_man_lose_LSTM_model) \n",
    "max = np.amax(Do_man_lose_LSTM_model) \n",
    "range = np.ptp(Do_man_lose_LSTM_model) \n",
    "varience = np.var(Do_man_lose_LSTM_model) \n",
    "sd = np.std(Do_man_lose_LSTM_model) \n",
    "print(\"Measures of Dispersion\")\n",
    "print(\"Mean =\", mean)\n",
    "print(\"Minimum =\", min) \n",
    "print(\"Maximum =\", max) \n",
    "print(\"Range =\", range) \n",
    "print(\"Varience =\", varience) \n",
    "print(\"Standard Deviation =\", sd) "
   ]
  },
  {
   "cell_type": "code",
   "execution_count": 66,
   "metadata": {},
   "outputs": [],
   "source": [
    "Do_man_cdf = get_cdf(Do_man_lose_LSTM_model)"
   ]
  },
  {
   "cell_type": "code",
   "execution_count": 67,
   "metadata": {},
   "outputs": [
    {
     "data": {
      "text/plain": [
       "[0.06291106493568,\n",
       " 0.12226425370439437,\n",
       " 0.1748687256173004,\n",
       " 0.22128095381864896,\n",
       " 0.26589944411884847,\n",
       " 0.3086294776848349,\n",
       " 0.3558823355296263,\n",
       " 0.40436061827718284,\n",
       " 0.4536795306681822,\n",
       " 0.5045198643152716,\n",
       " 0.5511629696722137,\n",
       " 0.5924781406693069,\n",
       " 0.6256119724604993,\n",
       " 0.6546196150863421,\n",
       " 0.6791932323393776,\n",
       " 0.7072122471451152,\n",
       " 0.7349411855245943,\n",
       " 0.7614032595118428,\n",
       " 0.7855328822348908,\n",
       " 0.8078450873485239,\n",
       " 0.8301750522433564,\n",
       " 0.84964569236507,\n",
       " 0.8668904399097803,\n",
       " 0.882264490501477,\n",
       " 0.8963361571385441,\n",
       " 0.9098217509960277,\n",
       " 0.9220108808259482,\n",
       " 0.9327377886704435,\n",
       " 0.9403744945862267,\n",
       " 0.947312649108163,\n",
       " 0.95352265260092,\n",
       " 0.9593597006884875,\n",
       " 0.9643442792784793,\n",
       " 0.9697491726901925,\n",
       " 0.9743430360937954,\n",
       " 0.9785994636546078,\n",
       " 0.9818731833223815,\n",
       " 0.9850817837924237,\n",
       " 0.9876451122122175,\n",
       " 0.9893086117179036,\n",
       " 0.9903505188816074,\n",
       " 0.9913450666287791,\n",
       " 0.9924343332090149,\n",
       " 0.9934466407373861,\n",
       " 0.9944115888492254,\n",
       " 0.9953054978362667,\n",
       " 0.995927090178249,\n",
       " 0.9965368426660983,\n",
       " 0.9970696361020832,\n",
       " 0.9974189117990067,\n",
       " 0.9977563476417971,\n",
       " 0.9981411429011194,\n",
       " 0.9985377780145749,\n",
       " 0.9988515341490993,\n",
       " 0.9990883312317592,\n",
       " 0.9992777688978872,\n",
       " 0.9993547279497517,\n",
       " 0.9994020873662837,\n",
       " 0.9994849663452147,\n",
       " 0.9996152047406776,\n",
       " 0.9997572829902736,\n",
       " 0.999905281166936,\n",
       " 1.0,\n",
       " 1.0,\n",
       " 1.0,\n",
       " 1.0,\n",
       " 1.0,\n",
       " 1.0,\n",
       " 1.0,\n",
       " 1.0,\n",
       " 1.0,\n",
       " 1.0,\n",
       " 1.0,\n",
       " 1.0,\n",
       " 1.0,\n",
       " 1.0,\n",
       " 1.0,\n",
       " 1.0,\n",
       " 1.0,\n",
       " 1.0,\n",
       " 1.0,\n",
       " 1.0,\n",
       " 1.0,\n",
       " 1.0,\n",
       " 1.0,\n",
       " 1.0,\n",
       " 1.0,\n",
       " 1.0,\n",
       " 1.0,\n",
       " 1.0,\n",
       " 1.0,\n",
       " 1.0,\n",
       " 1.0,\n",
       " 1.0,\n",
       " 1.0,\n",
       " 1.0,\n",
       " 1.0,\n",
       " 1.0,\n",
       " 1.0]"
      ]
     },
     "execution_count": 67,
     "metadata": {},
     "output_type": "execute_result"
    }
   ],
   "source": [
    "Do_man_cdf"
   ]
  },
  {
   "cell_type": "code",
   "execution_count": 69,
   "metadata": {},
   "outputs": [
    {
     "data": {
      "image/png": "[encoded data removed]",
      "text/plain": [
       "<Figure size 1008x360 with 1 Axes>"
      ]
     },
     "metadata": {
      "needs_background": "light"
     },
     "output_type": "display_data"
    }
   ],
   "source": [
    "plt.figure(figsize=(14,5))\n",
    "plt.plot(lose, Do_man_cdf)\n",
    "plt.title('CDF')\n",
    "plt.ylabel('Precent')\n",
    "plt.xlabel('Salinity')\n",
    "plt.show()"
   ]
  },
  {
   "cell_type": "markdown",
   "metadata": {},
   "source": [
    "### Training with PH"
   ]
  },
  {
   "cell_type": "code",
   "execution_count": 37,
   "metadata": {},
   "outputs": [
    {
     "name": "stdout",
     "output_type": "stream",
     "text": [
      "Epoch 1/50\n",
      "43/43 [==============================] - 14s 327ms/step - loss: 0.0072\n",
      "Epoch 2/50\n",
      "43/43 [==============================] - 15s 346ms/step - loss: 0.0062\n",
      "Epoch 3/50\n",
      "43/43 [==============================] - 14s 330ms/step - loss: 0.0061\n",
      "Epoch 4/50\n",
      "43/43 [==============================] - 14s 323ms/step - loss: 0.0059\n",
      "Epoch 5/50\n",
      "43/43 [==============================] - 14s 324ms/step - loss: 0.0060\n",
      "Epoch 6/50\n",
      "43/43 [==============================] - 13s 313ms/step - loss: 0.0059\n",
      "Epoch 7/50\n",
      "43/43 [==============================] - 14s 329ms/step - loss: 0.0062\n",
      "Epoch 8/50\n",
      "43/43 [==============================] - 14s 334ms/step - loss: 0.0056\n",
      "Epoch 9/50\n",
      "43/43 [==============================] - 14s 321ms/step - loss: 0.0058\n",
      "Epoch 10/50\n",
      "43/43 [==============================] - 14s 325ms/step - loss: 0.0055\n",
      "Epoch 11/50\n",
      "43/43 [==============================] - 14s 327ms/step - loss: 0.0058\n",
      "Epoch 12/50\n",
      "43/43 [==============================] - 14s 323ms/step - loss: 0.0058\n",
      "Epoch 13/50\n",
      "43/43 [==============================] - 14s 318ms/step - loss: 0.0053\n",
      "Epoch 14/50\n",
      "43/43 [==============================] - 14s 314ms/step - loss: 0.0052\n",
      "Epoch 15/50\n",
      "43/43 [==============================] - 13s 308ms/step - loss: 0.0051\n",
      "Epoch 16/50\n",
      "43/43 [==============================] - 13s 303ms/step - loss: 0.0057\n",
      "Epoch 17/50\n",
      "43/43 [==============================] - 13s 306ms/step - loss: 0.0054\n",
      "Epoch 18/50\n",
      "43/43 [==============================] - 14s 316ms/step - loss: 0.0052\n",
      "Epoch 19/50\n",
      "43/43 [==============================] - 14s 329ms/step - loss: 0.0053\n",
      "Epoch 20/50\n",
      "43/43 [==============================] - 14s 327ms/step - loss: 0.0055\n",
      "Epoch 21/50\n",
      "43/43 [==============================] - 13s 307ms/step - loss: 0.0052\n",
      "Epoch 22/50\n",
      "43/43 [==============================] - 14s 323ms/step - loss: 0.0054\n",
      "Epoch 23/50\n",
      "43/43 [==============================] - 14s 328ms/step - loss: 0.0050\n",
      "Epoch 24/50\n",
      "43/43 [==============================] - 13s 306ms/step - loss: 0.0057\n",
      "Epoch 25/50\n",
      "43/43 [==============================] - 13s 297ms/step - loss: 0.0051\n",
      "Epoch 26/50\n",
      "43/43 [==============================] - 14s 322ms/step - loss: 0.0051\n",
      "Epoch 27/50\n",
      "43/43 [==============================] - 13s 308ms/step - loss: 0.0054\n",
      "Epoch 28/50\n",
      "43/43 [==============================] - 14s 318ms/step - loss: 0.0048\n",
      "Epoch 29/50\n",
      "43/43 [==============================] - 14s 320ms/step - loss: 0.0055\n",
      "Epoch 30/50\n",
      "43/43 [==============================] - 14s 317ms/step - loss: 0.0049\n",
      "Epoch 31/50\n",
      "43/43 [==============================] - 13s 305ms/step - loss: 0.0048\n",
      "Epoch 32/50\n",
      "43/43 [==============================] - 14s 332ms/step - loss: 0.0053\n",
      "Epoch 33/50\n",
      "43/43 [==============================] - 14s 325ms/step - loss: 0.0047\n",
      "Epoch 34/50\n",
      "43/43 [==============================] - 13s 309ms/step - loss: 0.0046\n",
      "Epoch 35/50\n",
      "43/43 [==============================] - 13s 310ms/step - loss: 0.0049\n",
      "Epoch 36/50\n",
      "43/43 [==============================] - 13s 311ms/step - loss: 0.0047\n",
      "Epoch 37/50\n",
      "43/43 [==============================] - 14s 334ms/step - loss: 0.0048\n",
      "Epoch 38/50\n",
      "43/43 [==============================] - 14s 317ms/step - loss: 0.0047\n",
      "Epoch 39/50\n",
      "43/43 [==============================] - 13s 307ms/step - loss: 0.0048\n",
      "Epoch 40/50\n",
      "43/43 [==============================] - 14s 321ms/step - loss: 0.0043\n",
      "Epoch 41/50\n",
      "43/43 [==============================] - 13s 312ms/step - loss: 0.0045\n",
      "Epoch 42/50\n",
      "43/43 [==============================] - 14s 320ms/step - loss: 0.0043\n",
      "Epoch 43/50\n",
      "43/43 [==============================] - 14s 315ms/step - loss: 0.0045\n",
      "Epoch 44/50\n",
      "43/43 [==============================] - 14s 331ms/step - loss: 0.0043\n",
      "Epoch 45/50\n",
      "43/43 [==============================] - 14s 326ms/step - loss: 0.0044\n",
      "Epoch 46/50\n",
      "43/43 [==============================] - 13s 309ms/step - loss: 0.0043\n",
      "Epoch 47/50\n",
      "43/43 [==============================] - 13s 312ms/step - loss: 0.0044\n",
      "Epoch 48/50\n",
      "43/43 [==============================] - 13s 311ms/step - loss: 0.0043\n",
      "Epoch 49/50\n",
      "43/43 [==============================] - 13s 299ms/step - loss: 0.0044\n",
      "Epoch 50/50\n",
      "43/43 [==============================] - 14s 317ms/step - loss: 0.0043\n",
      "CPU times: user 18min 48s, sys: 2min 5s, total: 20min 53s\n",
      "Wall time: 11min 49s\n"
     ]
    },
    {
     "data": {
      "text/plain": [
       "<tensorflow.python.keras.callbacks.History at 0x7fbc9c057940>"
      ]
     },
     "execution_count": 37,
     "metadata": {},
     "output_type": "execute_result"
    }
   ],
   "source": [
    "%%time\n",
    "LSTM_model.compile(optimizer='adam', loss='mean_squared_error')\n",
    "LSTM_model.fit(PH_X_train,PH_y_train, epochs=50, batch_size=32)"
   ]
  },
  {
   "cell_type": "code",
   "execution_count": 41,
   "metadata": {},
   "outputs": [],
   "source": [
    "LSTM_model.save('PH_LSTM_model.h5')"
   ]
  },
  {
   "cell_type": "code",
   "execution_count": 42,
   "metadata": {},
   "outputs": [],
   "source": [
    "PH_LSTM_model = load_model('PH_LSTM_model.h5')"
   ]
  },
  {
   "cell_type": "code",
   "execution_count": 43,
   "metadata": {},
   "outputs": [],
   "source": [
    "PH_y_pred_LSTM_model = PH_LSTM_model.predict(PH_X_test)"
   ]
  },
  {
   "cell_type": "code",
   "execution_count": 44,
   "metadata": {},
   "outputs": [],
   "source": [
    "PH_y_pred_LSTM_model = PH_y_pred_LSTM_model*1/scale\n",
    "PH_y_test = PH_y_test*1/scale"
   ]
  },
  {
   "cell_type": "code",
   "execution_count": 46,
   "metadata": {},
   "outputs": [
    {
     "data": {
      "image/png": "[encoded data removed]",
      "text/plain": [
       "<Figure size 1008x360 with 1 Axes>"
      ]
     },
     "metadata": {
      "needs_background": "light"
     },
     "output_type": "display_data"
    }
   ],
   "source": [
    "# Visualising the results\n",
    "plt.figure(figsize=(14,5))\n",
    "plt.plot(PH_y_test, color = 'red', label = 'Actual')\n",
    "plt.plot(PH_y_pred_LSTM_model, color = 'blue', label = 'Forecast')\n",
    "plt.title('Compare Weather Forecast vs Actual')\n",
    "plt.xlabel('Time')\n",
    "plt.ylabel('PH')\n",
    "plt.legend()\n",
    "plt.show()"
   ]
  },
  {
   "cell_type": "code",
   "execution_count": 47,
   "metadata": {},
   "outputs": [],
   "source": [
    "PH_lose_LSTM_model=abs(PH_y_test-PH_y_pred_LSTM_model)"
   ]
  },
  {
   "cell_type": "code",
   "execution_count": 48,
   "metadata": {},
   "outputs": [
    {
     "name": "stdout",
     "output_type": "stream",
     "text": [
      "Measures of Dispersion\n",
      "Mean = 0.9397625827430436\n",
      "Minimum = 0.00020217895507279593\n",
      "Maximum = 5.407960510253906\n",
      "Range = 5.407758331298833\n",
      "Varience = 1.0642490093246022\n",
      "Standard Deviation = 1.031624451689956\n"
     ]
    }
   ],
   "source": [
    "mean = np.mean(PH_lose_LSTM_model)\n",
    "min = np.amin(PH_lose_LSTM_model) \n",
    "max = np.amax(PH_lose_LSTM_model) \n",
    "range = np.ptp(PH_lose_LSTM_model) \n",
    "varience = np.var(PH_lose_LSTM_model) \n",
    "sd = np.std(PH_lose_LSTM_model) \n",
    "print(\"Measures of Dispersion\")\n",
    "print(\"Mean =\", mean)\n",
    "print(\"Minimum =\", min) \n",
    "print(\"Maximum =\", max) \n",
    "print(\"Range =\", range) \n",
    "print(\"Varience =\", varience) \n",
    "print(\"Standard Deviation =\", sd)"
   ]
  },
  {
   "cell_type": "code",
   "execution_count": 70,
   "metadata": {},
   "outputs": [],
   "source": [
    "PH_cdf = get_cdf(PH_lose_LSTM_model)                                                                                                                                                                         "
   ]
  },
  {
   "cell_type": "code",
   "execution_count": 71,
   "metadata": {},
   "outputs": [
    {
     "data": {
      "image/png": "[encoded data removed]",
      "text/plain": [
       "<Figure size 1008x360 with 1 Axes>"
      ]
     },
     "metadata": {
      "needs_background": "light"
     },
     "output_type": "display_data"
    }
   ],
   "source": [
    "plt.figure(figsize=(14,5))\n",
    "plt.plot(lose, PH_cdf)\n",
    "plt.title('CDF')\n",
    "plt.ylabel('Precent')\n",
    "plt.xlabel('PH')\n",
    "plt.show()"
   ]
  },
  {
   "cell_type": "markdown",
   "metadata": {},
   "source": [
    "## H2S"
   ]
  },
  {
   "cell_type": "code",
   "execution_count": 72,
   "metadata": {},
   "outputs": [
    {
     "name": "stdout",
     "output_type": "stream",
     "text": [
      "Epoch 1/50\n",
      "43/43 [==============================] - 14s 322ms/step - loss: 0.0739\n",
      "Epoch 2/50\n",
      "43/43 [==============================] - 14s 324ms/step - loss: 0.0176\n",
      "Epoch 3/50\n",
      "43/43 [==============================] - 14s 332ms/step - loss: 0.0161\n",
      "Epoch 4/50\n",
      "43/43 [==============================] - 14s 319ms/step - loss: 0.0154\n",
      "Epoch 5/50\n",
      "43/43 [==============================] - 13s 314ms/step - loss: 0.0153\n",
      "Epoch 6/50\n",
      "43/43 [==============================] - 14s 320ms/step - loss: 0.0146\n",
      "Epoch 7/50\n",
      "43/43 [==============================] - 15s 338ms/step - loss: 0.0145\n",
      "Epoch 8/50\n",
      "43/43 [==============================] - 14s 331ms/step - loss: 0.0144\n",
      "Epoch 9/50\n",
      "43/43 [==============================] - 15s 337ms/step - loss: 0.0133\n",
      "Epoch 10/50\n",
      "43/43 [==============================] - 15s 339ms/step - loss: 0.0125\n",
      "Epoch 11/50\n",
      "43/43 [==============================] - 14s 331ms/step - loss: 0.0124\n",
      "Epoch 12/50\n",
      "43/43 [==============================] - 14s 321ms/step - loss: 0.0129\n",
      "Epoch 13/50\n",
      "43/43 [==============================] - 14s 322ms/step - loss: 0.0124\n",
      "Epoch 14/50\n",
      "43/43 [==============================] - 14s 319ms/step - loss: 0.0122\n",
      "Epoch 15/50\n",
      "43/43 [==============================] - 13s 311ms/step - loss: 0.0122\n",
      "Epoch 16/50\n",
      "43/43 [==============================] - 14s 321ms/step - loss: 0.0130\n",
      "Epoch 17/50\n",
      "43/43 [==============================] - 14s 331ms/step - loss: 0.0125\n",
      "Epoch 18/50\n",
      "43/43 [==============================] - 14s 320ms/step - loss: 0.0121\n",
      "Epoch 19/50\n",
      "43/43 [==============================] - 13s 313ms/step - loss: 0.0121\n",
      "Epoch 20/50\n",
      "43/43 [==============================] - 14s 318ms/step - loss: 0.0114\n",
      "Epoch 21/50\n",
      "43/43 [==============================] - 15s 338ms/step - loss: 0.0116\n",
      "Epoch 22/50\n",
      "43/43 [==============================] - 13s 302ms/step - loss: 0.0111\n",
      "Epoch 23/50\n",
      "43/43 [==============================] - 13s 310ms/step - loss: 0.0114\n",
      "Epoch 24/50\n",
      "43/43 [==============================] - 14s 321ms/step - loss: 0.0118\n",
      "Epoch 25/50\n",
      "43/43 [==============================] - 14s 317ms/step - loss: 0.0112\n",
      "Epoch 26/50\n",
      "43/43 [==============================] - 14s 326ms/step - loss: 0.0113\n",
      "Epoch 27/50\n",
      "43/43 [==============================] - 14s 328ms/step - loss: 0.0109\n",
      "Epoch 28/50\n",
      "43/43 [==============================] - 14s 331ms/step - loss: 0.0106\n",
      "Epoch 29/50\n",
      "43/43 [==============================] - 14s 327ms/step - loss: 0.0110\n",
      "Epoch 30/50\n",
      "43/43 [==============================] - 13s 312ms/step - loss: 0.0103\n",
      "Epoch 31/50\n",
      "43/43 [==============================] - 14s 321ms/step - loss: 0.0101\n",
      "Epoch 32/50\n",
      "43/43 [==============================] - 14s 317ms/step - loss: 0.0101\n",
      "Epoch 33/50\n",
      "43/43 [==============================] - 14s 324ms/step - loss: 0.0100\n",
      "Epoch 34/50\n",
      "43/43 [==============================] - 14s 319ms/step - loss: 0.0102\n",
      "Epoch 35/50\n",
      "43/43 [==============================] - 14s 320ms/step - loss: 0.0099\n",
      "Epoch 36/50\n",
      "43/43 [==============================] - 14s 321ms/step - loss: 0.0094\n",
      "Epoch 37/50\n",
      "43/43 [==============================] - 14s 328ms/step - loss: 0.0095\n",
      "Epoch 38/50\n",
      "43/43 [==============================] - 14s 319ms/step - loss: 0.0097\n",
      "Epoch 39/50\n",
      "43/43 [==============================] - 13s 303ms/step - loss: 0.0094\n",
      "Epoch 40/50\n",
      "43/43 [==============================] - 14s 325ms/step - loss: 0.0089\n",
      "Epoch 41/50\n",
      "43/43 [==============================] - 14s 318ms/step - loss: 0.0085\n",
      "Epoch 42/50\n",
      "43/43 [==============================] - 13s 314ms/step - loss: 0.0091\n",
      "Epoch 43/50\n",
      "43/43 [==============================] - 13s 309ms/step - loss: 0.0095\n",
      "Epoch 44/50\n",
      "43/43 [==============================] - 14s 320ms/step - loss: 0.0088\n",
      "Epoch 45/50\n",
      "43/43 [==============================] - 13s 307ms/step - loss: 0.0088\n",
      "Epoch 46/50\n",
      "43/43 [==============================] - 13s 299ms/step - loss: 0.0093\n",
      "Epoch 47/50\n",
      "43/43 [==============================] - 14s 317ms/step - loss: 0.0086\n",
      "Epoch 48/50\n",
      "43/43 [==============================] - 14s 332ms/step - loss: 0.0080\n",
      "Epoch 49/50\n",
      "43/43 [==============================] - 14s 319ms/step - loss: 0.0088\n",
      "Epoch 50/50\n",
      "43/43 [==============================] - 13s 310ms/step - loss: 0.0087\n",
      "CPU times: user 19min 17s, sys: 2min 7s, total: 21min 24s\n",
      "Wall time: 11min 56s\n"
     ]
    },
    {
     "data": {
      "text/plain": [
       "<tensorflow.python.keras.callbacks.History at 0x7fbc38684bb0>"
      ]
     },
     "execution_count": 72,
     "metadata": {},
     "output_type": "execute_result"
    }
   ],
   "source": [
    "%%time\n",
    "LSTM_model.compile(optimizer='adam', loss='mean_squared_error')\n",
    "LSTM_model.fit(H2S_X_train,H2S_y_train, epochs=50, batch_size=32)"
   ]
  },
  {
   "cell_type": "code",
   "execution_count": 73,
   "metadata": {},
   "outputs": [],
   "source": [
    "LSTM_model.save('H2S_LSTM_model.h5')"
   ]
  },
  {
   "cell_type": "code",
   "execution_count": 74,
   "metadata": {},
   "outputs": [],
   "source": [
    "H2S_LSTM_model = load_model('H2S_LSTM_model.h5')"
   ]
  },
  {
   "cell_type": "code",
   "execution_count": 75,
   "metadata": {},
   "outputs": [],
   "source": [
    "H2S_y_pred_LSTM_model = H2S_LSTM_model.predict(H2S_X_test)"
   ]
  },
  {
   "cell_type": "code",
   "execution_count": 76,
   "metadata": {},
   "outputs": [],
   "source": [
    "H2S_y_pred_LSTM_model = H2S_y_pred_LSTM_model*1/scale\n",
    "H2S_y_test = H2S_y_test*1/scale"
   ]
  },
  {
   "cell_type": "code",
   "execution_count": 78,
   "metadata": {},
   "outputs": [
    {
     "data": {
      "image/png": "[encoded data removed]",
      "text/plain": [
       "<Figure size 1008x360 with 1 Axes>"
      ]
     },
     "metadata": {
      "needs_background": "light"
     },
     "output_type": "display_data"
    }
   ],
   "source": [
    "# Visualising the results\n",
    "plt.figure(figsize=(14,5))\n",
    "plt.plot(H2S_y_test, color = 'red', label = 'Actual')\n",
    "plt.plot(H2S_y_pred_LSTM_model, color = 'blue', label = 'Forecast')\n",
    "plt.title('Compare Weather Forecast vs Actual')\n",
    "plt.xlabel('Time')\n",
    "plt.ylabel('H2S')\n",
    "plt.legend()\n",
    "plt.show()"
   ]
  },
  {
   "cell_type": "code",
   "execution_count": 79,
   "metadata": {},
   "outputs": [],
   "source": [
    "H2S_lose_LSTM_model=abs(H2S_y_test-H2S_y_pred_LSTM_model)"
   ]
  },
  {
   "cell_type": "code",
   "execution_count": 80,
   "metadata": {},
   "outputs": [
    {
     "name": "stdout",
     "output_type": "stream",
     "text": [
      "Measures of Dispersion\n",
      "Mean = 0.5566698605982687\n",
      "Minimum = 4.478454589840197e-05\n",
      "Maximum = 6.2564180374145515\n",
      "Range = 6.256373252868653\n",
      "Varience = 0.5969752975098961\n",
      "Standard Deviation = 0.7726417653155284\n"
     ]
    }
   ],
   "source": [
    "mean = np.mean(H2S_lose_LSTM_model)\n",
    "min = np.amin(H2S_lose_LSTM_model) \n",
    "max = np.amax(H2S_lose_LSTM_model) \n",
    "range = np.ptp(H2S_lose_LSTM_model) \n",
    "varience = np.var(H2S_lose_LSTM_model) \n",
    "sd = np.std(H2S_lose_LSTM_model) \n",
    "print(\"Measures of Dispersion\")\n",
    "print(\"Mean =\", mean)\n",
    "print(\"Minimum =\", min) \n",
    "print(\"Maximum =\", max) \n",
    "print(\"Range =\", range) \n",
    "print(\"Varience =\", varience) \n",
    "print(\"Standard Deviation =\", sd)"
   ]
  },
  {
   "cell_type": "code",
   "execution_count": 81,
   "metadata": {},
   "outputs": [],
   "source": [
    "H2S_cdf = get_cdf(H2S_lose_LSTM_model) "
   ]
  },
  {
   "cell_type": "code",
   "execution_count": 82,
   "metadata": {},
   "outputs": [
    {
     "data": {
      "image/png": "[encoded data removed]",
      "text/plain": [
       "<Figure size 1008x360 with 1 Axes>"
      ]
     },
     "metadata": {
      "needs_background": "light"
     },
     "output_type": "display_data"
    }
   ],
   "source": [
    "plt.figure(figsize=(14,5))\n",
    "plt.plot(lose, H2S_cdf)\n",
    "plt.title('CDF')\n",
    "plt.ylabel('Precent')\n",
    "plt.xlabel('H2S')\n",
    "plt.show()"
   ]
  },
  {
   "cell_type": "markdown",
   "metadata": {},
   "source": [
    "## TSS"
   ]
  },
  {
   "cell_type": "code",
   "execution_count": 83,
   "metadata": {},
   "outputs": [
    {
     "name": "stdout",
     "output_type": "stream",
     "text": [
      "Epoch 1/50\n",
      "43/43 [==============================] - 14s 330ms/step - loss: 0.0086\n",
      "Epoch 2/50\n",
      "43/43 [==============================] - 14s 334ms/step - loss: 0.0080\n",
      "Epoch 3/50\n",
      "43/43 [==============================] - 14s 326ms/step - loss: 0.0078\n",
      "Epoch 4/50\n",
      "43/43 [==============================] - 14s 326ms/step - loss: 0.0078\n",
      "Epoch 5/50\n",
      "43/43 [==============================] - 14s 323ms/step - loss: 0.0079\n",
      "Epoch 6/50\n",
      "43/43 [==============================] - 14s 326ms/step - loss: 0.0075\n",
      "Epoch 7/50\n",
      "43/43 [==============================] - 14s 321ms/step - loss: 0.0076\n",
      "Epoch 8/50\n",
      "43/43 [==============================] - 14s 329ms/step - loss: 0.0073\n",
      "Epoch 9/50\n",
      "43/43 [==============================] - 14s 330ms/step - loss: 0.0071\n",
      "Epoch 10/50\n",
      "43/43 [==============================] - 14s 325ms/step - loss: 0.0072\n",
      "Epoch 11/50\n",
      "43/43 [==============================] - 14s 320ms/step - loss: 0.0073\n",
      "Epoch 12/50\n",
      "43/43 [==============================] - 14s 332ms/step - loss: 0.0069\n",
      "Epoch 13/50\n",
      "43/43 [==============================] - 14s 327ms/step - loss: 0.0069\n",
      "Epoch 14/50\n",
      "43/43 [==============================] - 13s 301ms/step - loss: 0.0070\n",
      "Epoch 15/50\n",
      "43/43 [==============================] - 13s 307ms/step - loss: 0.0067\n",
      "Epoch 16/50\n",
      "43/43 [==============================] - 13s 304ms/step - loss: 0.0066\n",
      "Epoch 17/50\n",
      "43/43 [==============================] - 13s 305ms/step - loss: 0.0065\n",
      "Epoch 18/50\n",
      "43/43 [==============================] - 13s 308ms/step - loss: 0.0067\n",
      "Epoch 19/50\n",
      "43/43 [==============================] - 13s 300ms/step - loss: 0.0064\n",
      "Epoch 20/50\n",
      "43/43 [==============================] - 13s 310ms/step - loss: 0.0065\n",
      "Epoch 21/50\n",
      "43/43 [==============================] - 13s 309ms/step - loss: 0.0066\n",
      "Epoch 22/50\n",
      "43/43 [==============================] - 13s 308ms/step - loss: 0.0061\n",
      "Epoch 23/50\n",
      "43/43 [==============================] - 14s 316ms/step - loss: 0.0064\n",
      "Epoch 24/50\n",
      "43/43 [==============================] - 14s 325ms/step - loss: 0.0066\n",
      "Epoch 25/50\n",
      "43/43 [==============================] - 13s 300ms/step - loss: 0.0063\n",
      "Epoch 26/50\n",
      "43/43 [==============================] - 14s 318ms/step - loss: 0.0061\n",
      "Epoch 27/50\n",
      "43/43 [==============================] - 14s 318ms/step - loss: 0.0061\n",
      "Epoch 28/50\n",
      "43/43 [==============================] - 13s 307ms/step - loss: 0.0061\n",
      "Epoch 29/50\n",
      "43/43 [==============================] - 13s 304ms/step - loss: 0.0059\n",
      "Epoch 30/50\n",
      "43/43 [==============================] - 14s 314ms/step - loss: 0.0059\n",
      "Epoch 31/50\n",
      "43/43 [==============================] - 14s 317ms/step - loss: 0.0061\n",
      "Epoch 32/50\n",
      "43/43 [==============================] - 13s 309ms/step - loss: 0.0060\n",
      "Epoch 33/50\n",
      "43/43 [==============================] - 13s 297ms/step - loss: 0.0058\n",
      "Epoch 34/50\n",
      "43/43 [==============================] - 13s 299ms/step - loss: 0.0060\n",
      "Epoch 35/50\n",
      "43/43 [==============================] - 13s 304ms/step - loss: 0.0056\n",
      "Epoch 36/50\n",
      "43/43 [==============================] - 13s 302ms/step - loss: 0.0057\n",
      "Epoch 37/50\n",
      "43/43 [==============================] - 13s 303ms/step - loss: 0.0062\n",
      "Epoch 38/50\n",
      "43/43 [==============================] - 13s 298ms/step - loss: 0.0057\n",
      "Epoch 39/50\n",
      "43/43 [==============================] - 13s 305ms/step - loss: 0.0058\n",
      "Epoch 40/50\n",
      "43/43 [==============================] - 14s 315ms/step - loss: 0.0054\n",
      "Epoch 41/50\n",
      "43/43 [==============================] - 13s 311ms/step - loss: 62.9890\n",
      "Epoch 42/50\n",
      "43/43 [==============================] - 13s 303ms/step - loss: 0.0176\n",
      "Epoch 43/50\n",
      "43/43 [==============================] - 13s 302ms/step - loss: 0.0079\n",
      "Epoch 44/50\n",
      "43/43 [==============================] - 13s 306ms/step - loss: 0.0064\n",
      "Epoch 45/50\n",
      "43/43 [==============================] - 13s 311ms/step - loss: 0.0063\n",
      "Epoch 46/50\n",
      "43/43 [==============================] - 13s 299ms/step - loss: 0.0062\n",
      "Epoch 47/50\n",
      "43/43 [==============================] - 13s 305ms/step - loss: 0.0061\n",
      "Epoch 48/50\n",
      "43/43 [==============================] - 13s 313ms/step - loss: 0.0060\n",
      "Epoch 49/50\n",
      "43/43 [==============================] - 13s 308ms/step - loss: 0.0058\n",
      "Epoch 50/50\n",
      "43/43 [==============================] - 12s 290ms/step - loss: 0.0060\n",
      "CPU times: user 18min 52s, sys: 2min 3s, total: 20min 55s\n",
      "Wall time: 11min 36s\n"
     ]
    },
    {
     "data": {
      "text/plain": [
       "<tensorflow.python.keras.callbacks.History at 0x7fbc3870c7c0>"
      ]
     },
     "execution_count": 83,
     "metadata": {},
     "output_type": "execute_result"
    }
   ],
   "source": [
    "%%time\n",
    "LSTM_model.compile(optimizer='adam', loss='mean_squared_error')\n",
    "LSTM_model.fit(TSS_X_train,TSS_y_train, epochs=50, batch_size=32)"
   ]
  },
  {
   "cell_type": "code",
   "execution_count": 84,
   "metadata": {},
   "outputs": [],
   "source": [
    "LSTM_model.save('TSS_LSTM_model.h5')"
   ]
  },
  {
   "cell_type": "code",
   "execution_count": 85,
   "metadata": {},
   "outputs": [],
   "source": [
    "TSS_LSTM_model = load_model('TSS_LSTM_model.h5')"
   ]
  },
  {
   "cell_type": "code",
   "execution_count": 86,
   "metadata": {},
   "outputs": [],
   "source": [
    "TSS_y_pred_LSTM_model = TSS_LSTM_model.predict(TSS_X_test)"
   ]
  },
  {
   "cell_type": "code",
   "execution_count": 87,
   "metadata": {},
   "outputs": [],
   "source": [
    "TSS_y_pred_LSTM_model = TSS_y_pred_LSTM_model*1/scale\n",
    "TSS_y_test = TSS_y_test*1/scale"
   ]
  },
  {
   "cell_type": "code",
   "execution_count": 88,
   "metadata": {},
   "outputs": [
    {
     "data": {
      "image/png": "[encoded data removed]",
      "text/plain": [
       "<Figure size 1008x360 with 1 Axes>"
      ]
     },
     "metadata": {
      "needs_background": "light"
     },
     "output_type": "display_data"
    }
   ],
   "source": [
    "# Visualising the results\n",
    "plt.figure(figsize=(14,5))\n",
    "plt.plot(TSS_y_test, color = 'red', label = 'Actual')\n",
    "plt.plot(TSS_y_pred_LSTM_model, color = 'blue', label = 'Forecast')\n",
    "plt.title('Compare Weather Forecast vs Actual')\n",
    "plt.xlabel('Time')\n",
    "plt.ylabel('TSS')\n",
    "plt.legend()\n",
    "plt.show()"
   ]
  },
  {
   "cell_type": "code",
   "execution_count": 89,
   "metadata": {},
   "outputs": [],
   "source": [
    "TSS_lose_LSTM_model=abs(TSS_y_test-TSS_y_pred_LSTM_model)"
   ]
  },
  {
   "cell_type": "code",
   "execution_count": 90,
   "metadata": {},
   "outputs": [
    {
     "name": "stdout",
     "output_type": "stream",
     "text": [
      "Measures of Dispersion\n",
      "Mean = 0.9840164709570993\n",
      "Minimum = 5.9382120762840884e-06\n",
      "Maximum = 5.2550117492675765\n",
      "Range = 5.255005811055501\n",
      "Varience = 0.5293771301075251\n",
      "Standard Deviation = 0.7275830743685047\n"
     ]
    }
   ],
   "source": [
    "mean = np.mean(TSS_lose_LSTM_model)\n",
    "min = np.amin(TSS_lose_LSTM_model) \n",
    "max = np.amax(TSS_lose_LSTM_model) \n",
    "range = np.ptp(TSS_lose_LSTM_model) \n",
    "varience = np.var(TSS_lose_LSTM_model) \n",
    "sd = np.std(TSS_lose_LSTM_model) \n",
    "print(\"Measures of Dispersion\")\n",
    "print(\"Mean =\", mean)\n",
    "print(\"Minimum =\", min) \n",
    "print(\"Maximum =\", max) \n",
    "print(\"Range =\", range) \n",
    "print(\"Varience =\", varience) \n",
    "print(\"Standard Deviation =\", sd)"
   ]
  },
  {
   "cell_type": "code",
   "execution_count": 91,
   "metadata": {},
   "outputs": [],
   "source": [
    "TSS_cdf = get_cdf(TSS_lose_LSTM_model) "
   ]
  },
  {
   "cell_type": "code",
   "execution_count": 92,
   "metadata": {},
   "outputs": [
    {
     "data": {
      "image/png": "[encoded data removed]",
      "text/plain": [
       "<Figure size 1008x360 with 1 Axes>"
      ]
     },
     "metadata": {
      "needs_background": "light"
     },
     "output_type": "display_data"
    }
   ],
   "source": [
    "plt.figure(figsize=(14,5))\n",
    "plt.plot(lose, TSS_cdf)\n",
    "plt.title('CDF')\n",
    "plt.ylabel('Precent')\n",
    "plt.xlabel('TSS')\n",
    "plt.show()"
   ]
  },
  {
   "cell_type": "markdown",
   "metadata": {},
   "source": [
    "## DO"
   ]
  },
  {
   "cell_type": "code",
   "execution_count": 93,
   "metadata": {},
   "outputs": [
    {
     "name": "stdout",
     "output_type": "stream",
     "text": [
      "Epoch 1/50\n",
      "43/43 [==============================] - 14s 332ms/step - loss: 0.0151\n",
      "Epoch 2/50\n",
      "43/43 [==============================] - 14s 324ms/step - loss: 0.0133\n",
      "Epoch 3/50\n",
      "43/43 [==============================] - 14s 316ms/step - loss: 0.0125\n",
      "Epoch 4/50\n",
      "43/43 [==============================] - 13s 313ms/step - loss: 0.0128\n",
      "Epoch 5/50\n",
      "43/43 [==============================] - 14s 319ms/step - loss: 0.0119\n",
      "Epoch 6/50\n",
      "43/43 [==============================] - 14s 325ms/step - loss: 0.0118\n",
      "Epoch 7/50\n",
      "43/43 [==============================] - 14s 316ms/step - loss: 0.0120\n",
      "Epoch 8/50\n",
      "43/43 [==============================] - 14s 337ms/step - loss: 0.0113\n",
      "Epoch 9/50\n",
      "43/43 [==============================] - 14s 335ms/step - loss: 0.0116\n",
      "Epoch 10/50\n",
      "43/43 [==============================] - 14s 318ms/step - loss: 0.0109\n",
      "Epoch 11/50\n",
      "43/43 [==============================] - 13s 313ms/step - loss: 0.0106\n",
      "Epoch 12/50\n",
      "43/43 [==============================] - 14s 327ms/step - loss: 0.0108\n",
      "Epoch 13/50\n",
      "43/43 [==============================] - 14s 321ms/step - loss: 0.0106\n",
      "Epoch 14/50\n",
      "43/43 [==============================] - 14s 322ms/step - loss: 0.0103\n",
      "Epoch 15/50\n",
      "43/43 [==============================] - 14s 329ms/step - loss: 0.0106\n",
      "Epoch 16/50\n",
      "43/43 [==============================] - 14s 326ms/step - loss: 0.0099\n",
      "Epoch 17/50\n",
      "43/43 [==============================] - 13s 313ms/step - loss: 0.0104\n",
      "Epoch 18/50\n",
      "43/43 [==============================] - 14s 320ms/step - loss: 0.0108\n",
      "Epoch 19/50\n",
      "43/43 [==============================] - 14s 337ms/step - loss: 0.0100\n",
      "Epoch 20/50\n",
      "43/43 [==============================] - 14s 331ms/step - loss: 0.0098\n",
      "Epoch 21/50\n",
      "43/43 [==============================] - 13s 307ms/step - loss: 0.0093\n",
      "Epoch 22/50\n",
      "43/43 [==============================] - 14s 336ms/step - loss: 0.0095\n",
      "Epoch 23/50\n",
      "43/43 [==============================] - 15s 344ms/step - loss: 0.0103\n",
      "Epoch 24/50\n",
      "43/43 [==============================] - 14s 324ms/step - loss: 0.0090\n",
      "Epoch 25/50\n",
      "43/43 [==============================] - 14s 329ms/step - loss: 0.0091\n",
      "Epoch 26/50\n",
      "43/43 [==============================] - 14s 321ms/step - loss: 0.0097\n",
      "Epoch 27/50\n",
      "43/43 [==============================] - 13s 310ms/step - loss: 0.0090\n",
      "Epoch 28/50\n",
      "43/43 [==============================] - 14s 324ms/step - loss: 0.0090\n",
      "Epoch 29/50\n",
      "43/43 [==============================] - 14s 328ms/step - loss: 0.0083\n",
      "Epoch 30/50\n",
      "43/43 [==============================] - 14s 315ms/step - loss: 0.0084\n",
      "Epoch 31/50\n",
      "43/43 [==============================] - 13s 306ms/step - loss: 0.0081\n",
      "Epoch 32/50\n",
      "43/43 [==============================] - 14s 317ms/step - loss: 0.0081\n",
      "Epoch 33/50\n",
      "43/43 [==============================] - 15s 340ms/step - loss: 0.0081\n",
      "Epoch 34/50\n",
      "43/43 [==============================] - 14s 335ms/step - loss: 0.0080\n",
      "Epoch 35/50\n",
      "43/43 [==============================] - 14s 333ms/step - loss: 0.0078\n",
      "Epoch 36/50\n",
      "43/43 [==============================] - 14s 328ms/step - loss: 0.0080\n",
      "Epoch 37/50\n",
      "43/43 [==============================] - 14s 321ms/step - loss: 0.0081\n",
      "Epoch 38/50\n",
      "43/43 [==============================] - 13s 309ms/step - loss: 0.0081\n",
      "Epoch 39/50\n",
      "43/43 [==============================] - 13s 306ms/step - loss: 0.0075\n",
      "Epoch 40/50\n",
      "43/43 [==============================] - 14s 321ms/step - loss: 0.0075\n",
      "Epoch 41/50\n",
      "43/43 [==============================] - 15s 340ms/step - loss: 0.0073\n",
      "Epoch 42/50\n",
      "43/43 [==============================] - 15s 359ms/step - loss: 0.0075\n",
      "Epoch 43/50\n",
      "43/43 [==============================] - 15s 357ms/step - loss: 0.0074\n",
      "Epoch 44/50\n",
      "43/43 [==============================] - 16s 363ms/step - loss: 0.0071\n",
      "Epoch 45/50\n",
      "43/43 [==============================] - 15s 360ms/step - loss: 0.0071\n",
      "Epoch 46/50\n",
      "43/43 [==============================] - 16s 376ms/step - loss: 0.0070\n",
      "Epoch 47/50\n",
      "43/43 [==============================] - 16s 361ms/step - loss: 0.0067\n",
      "Epoch 48/50\n",
      "43/43 [==============================] - 16s 364ms/step - loss: 0.0070\n",
      "Epoch 49/50\n",
      "43/43 [==============================] - 15s 359ms/step - loss: 0.0069\n",
      "Epoch 50/50\n",
      "43/43 [==============================] - 15s 348ms/step - loss: 0.0067\n",
      "CPU times: user 19min 19s, sys: 2min 7s, total: 21min 26s\n",
      "Wall time: 12min 16s\n"
     ]
    },
    {
     "data": {
      "text/plain": [
       "<tensorflow.python.keras.callbacks.History at 0x7fbc1c377550>"
      ]
     },
     "execution_count": 93,
     "metadata": {},
     "output_type": "execute_result"
    }
   ],
   "source": [
    "%%time\n",
    "LSTM_model.compile(optimizer='adam', loss='mean_squared_error')\n",
    "LSTM_model.fit(DO_X_train,DO_y_train, epochs=50, batch_size=32)"
   ]
  },
  {
   "cell_type": "code",
   "execution_count": 94,
   "metadata": {},
   "outputs": [],
   "source": [
    "LSTM_model.save('DO_LSTM_model.h5')"
   ]
  },
  {
   "cell_type": "code",
   "execution_count": 95,
   "metadata": {},
   "outputs": [],
   "source": [
    "DO_LSTM_model = load_model('DO_LSTM_model.h5')"
   ]
  },
  {
   "cell_type": "code",
   "execution_count": 96,
   "metadata": {},
   "outputs": [],
   "source": [
    "DO_y_pred_LSTM_model = DO_LSTM_model.predict(DO_X_test)"
   ]
  },
  {
   "cell_type": "code",
   "execution_count": 97,
   "metadata": {},
   "outputs": [],
   "source": [
    "DO_y_pred_LSTM_model = DO_y_pred_LSTM_model*1/scale\n",
    "DO_y_test = DO_y_test*1/scale"
   ]
  },
  {
   "cell_type": "code",
   "execution_count": 98,
   "metadata": {},
   "outputs": [
    {
     "data": {
      "image/png": "[encoded data removed]",
      "text/plain": [
       "<Figure size 1008x360 with 1 Axes>"
      ]
     },
     "metadata": {
      "needs_background": "light"
     },
     "output_type": "display_data"
    }
   ],
   "source": [
    "# Visualising the results\n",
    "plt.figure(figsize=(14,5))\n",
    "plt.plot(DO_y_test, color = 'red', label = 'Actual')\n",
    "plt.plot(DO_y_pred_LSTM_model, color = 'blue', label = 'Forecast')\n",
    "plt.title('Compare Weather Forecast vs Actual')\n",
    "plt.xlabel('Time')\n",
    "plt.ylabel('DO')\n",
    "plt.legend()\n",
    "plt.show()"
   ]
  },
  {
   "cell_type": "code",
   "execution_count": 100,
   "metadata": {},
   "outputs": [],
   "source": [
    "DO_lose_LSTM_model=abs(DO_y_test-DO_y_pred_LSTM_model)"
   ]
  },
  {
   "cell_type": "code",
   "execution_count": 101,
   "metadata": {},
   "outputs": [
    {
     "name": "stdout",
     "output_type": "stream",
     "text": [
      "Measures of Dispersion\n",
      "Mean = 1.06582158775322\n",
      "Minimum = 0.0009600763735573281\n",
      "Maximum = 5.41631965637207\n",
      "Range = 5.415359579998513\n",
      "Varience = 0.7282731992622966\n",
      "Standard Deviation = 0.8533892425278728\n"
     ]
    }
   ],
   "source": [
    "mean = np.mean(DO_lose_LSTM_model)\n",
    "min = np.amin(DO_lose_LSTM_model) \n",
    "max = np.amax(DO_lose_LSTM_model) \n",
    "range = np.ptp(DO_lose_LSTM_model) \n",
    "varience = np.var(DO_lose_LSTM_model) \n",
    "sd = np.std(DO_lose_LSTM_model) \n",
    "print(\"Measures of Dispersion\")\n",
    "print(\"Mean =\", mean)\n",
    "print(\"Minimum =\", min) \n",
    "print(\"Maximum =\", max) \n",
    "print(\"Range =\", range) \n",
    "print(\"Varience =\", varience) \n",
    "print(\"Standard Deviation =\", sd)"
   ]
  },
  {
   "cell_type": "code",
   "execution_count": 102,
   "metadata": {},
   "outputs": [],
   "source": [
    "DO_cdf = get_cdf(DO_lose_LSTM_model)"
   ]
  },
  {
   "cell_type": "code",
   "execution_count": 103,
   "metadata": {},
   "outputs": [
    {
     "data": {
      "image/png": "[encoded data removed]",
      "text/plain": [
       "<Figure size 1008x360 with 1 Axes>"
      ]
     },
     "metadata": {
      "needs_background": "light"
     },
     "output_type": "display_data"
    }
   ],
   "source": [
    "plt.figure(figsize=(14,5))\n",
    "plt.plot(lose, DO_cdf)\n",
    "plt.title('CDF')\n",
    "plt.ylabel('Precent')\n",
    "plt.xlabel('DO')\n",
    "plt.show()"
   ]
  },
  {
   "cell_type": "markdown",
   "metadata": {},
   "source": [
    "## NH3"
   ]
  },
  {
   "cell_type": "code",
   "execution_count": null,
   "metadata": {},
   "outputs": [
    {
     "name": "stdout",
     "output_type": "stream",
     "text": [
      "Epoch 1/50\n",
      "43/43 [==============================] - 15s 360ms/step - loss: 43.4527\n",
      "Epoch 2/50\n",
      "43/43 [==============================] - 15s 353ms/step - loss: 0.0143\n",
      "Epoch 3/50\n",
      "43/43 [==============================] - 15s 359ms/step - loss: 0.0126\n",
      "Epoch 4/50\n",
      "43/43 [==============================] - 15s 350ms/step - loss: 0.0126\n",
      "Epoch 5/50\n",
      "43/43 [==============================] - 15s 347ms/step - loss: 0.0122\n",
      "Epoch 6/50\n",
      "43/43 [==============================] - 15s 357ms/step - loss: 0.0117\n",
      "Epoch 7/50\n",
      "43/43 [==============================] - 15s 356ms/step - loss: 0.0114\n",
      "Epoch 8/50\n",
      "43/43 [==============================] - 14s 326ms/step - loss: 0.0116\n",
      "Epoch 9/50\n",
      "43/43 [==============================] - 15s 344ms/step - loss: 0.0112\n",
      "Epoch 10/50\n",
      "43/43 [==============================] - 15s 343ms/step - loss: 0.0107\n",
      "Epoch 11/50\n",
      "43/43 [==============================] - 14s 325ms/step - loss: 0.0100\n",
      "Epoch 12/50\n",
      "43/43 [==============================] - 14s 335ms/step - loss: 0.0098\n",
      "Epoch 13/50\n",
      "43/43 [==============================] - 14s 335ms/step - loss: 0.0085\n",
      "Epoch 14/50\n",
      "43/43 [==============================] - 15s 346ms/step - loss: 0.0085\n",
      "Epoch 15/50\n",
      "43/43 [==============================] - 14s 332ms/step - loss: 0.0084\n",
      "Epoch 16/50\n",
      "13/43 [========>.....................] - ETA: 9s - loss: 0.0074"
     ]
    }
   ],
   "source": [
    "%%time\n",
    "LSTM_model.compile(optimizer='adam', loss='mean_squared_error')\n",
    "LSTM_model.fit(NH3_X_train,NH3_y_train, epochs=50, batch_size=32)"
   ]
  },
  {
   "cell_type": "code",
   "execution_count": null,
   "metadata": {},
   "outputs": [],
   "source": [
    "LSTM_model.save('NH3_LSTM_model.h5')"
   ]
  },
  {
   "cell_type": "code",
   "execution_count": null,
   "metadata": {},
   "outputs": [],
   "source": []
  }
 ],
 "metadata": {
  "kernelspec": {
   "display_name": "Python 3.11.0 64-bit",
   "language": "python",
   "name": "python3"
  },
  "language_info": {
   "codemirror_mode": {
    "name": "ipython",
    "version": 3
   },
   "file_extension": ".py",
   "mimetype": "text/x-python",
   "name": "python",
   "nbconvert_exporter": "python",
   "pygments_lexer": "ipython3",
   "version": "3.11.0 (main, Oct 24 2022, 18:26:48) [MSC v.1933 64 bit (AMD64)]"
  },
  "vscode": {
   "interpreter": {
    "hash": "5f80c455da1dc101d9f66a16923589bd6dbb3429340af280f1efed2f72025e97"
   }
  }
 },
 "nbformat": 4,
 "nbformat_minor": 4
}
